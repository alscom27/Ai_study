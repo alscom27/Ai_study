{
 "cells": [
  {
   "cell_type": "code",
   "execution_count": 1,
   "id": "a3165494",
   "metadata": {},
   "outputs": [],
   "source": [
    "from openai import OpenAI\n",
    "import os\n",
    "from dotenv import load_dotenv\n",
    "\n",
    "load_dotenv()\n",
    "api_key = os.getenv(\"OPENAI_API_KEY\")\n",
    "\n",
    "client = OpenAI(api_key=api_key)"
   ]
  },
  {
   "cell_type": "code",
   "execution_count": null,
   "id": "39945a4f",
   "metadata": {},
   "outputs": [
    {
     "name": "stdout",
     "output_type": "stream",
     "text": [
      "<class 'openai._legacy_response.HttpxBinaryResponseContent'>\n",
      "audio data size : 44640\n"
     ]
    }
   ],
   "source": [
    "text = \"안녕, 이 gun TTS 테스트 입니다.\"\n",
    "\n",
    "response = client.audio.speech.create(\n",
    "    model=\"tts-1\",\n",
    "    voice=\"alloy\",\n",
    "    input=text\n",
    ")\n",
    "\n",
    "print(type(response))\n",
    "\n",
    "audio_data = response.content\n",
    "print(f\"audio data size : {len(audio_data)}\")\n",
    "\n",
    "output_path = \"output_alloy.mp3\"\n",
    "\n",
    "with open(output_path, \"wb\") as f:\n",
    "    f.write(audio_data)\n",
    "    \n",
    "print(f\"file save: {output_path}\")"
   ]
  },
  {
   "cell_type": "code",
   "execution_count": 7,
   "id": "34d30b3e",
   "metadata": {},
   "outputs": [
    {
     "name": "stdout",
     "output_type": "stream",
     "text": [
      " 'Onyx'음성으로 변환한 오디오 사이즈 : , 42240\n"
     ]
    }
   ],
   "source": [
    "text = \"안녕, 이건 TTS 테스트입니다.\"\n",
    "response_diff_voice = client.audio.speech.create(\n",
    "model=\"tts-1\",\n",
    "voice=\"onyx\",\n",
    "input=text\n",
    ")\n",
    "\n",
    "audio_data=response_diff_voice.content\n",
    "print(f\" 'Onyx'음성으로 변환한 오디오 사이즈 : , {len(audio_data)}\")"
   ]
  }
 ],
 "metadata": {
  "kernelspec": {
   "display_name": "openapi",
   "language": "python",
   "name": "python3"
  },
  "language_info": {
   "codemirror_mode": {
    "name": "ipython",
    "version": 3
   },
   "file_extension": ".py",
   "mimetype": "text/x-python",
   "name": "python",
   "nbconvert_exporter": "python",
   "pygments_lexer": "ipython3",
   "version": "3.12.9"
  }
 },
 "nbformat": 4,
 "nbformat_minor": 5
}
