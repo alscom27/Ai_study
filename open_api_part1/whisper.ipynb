{
 "cells": [
  {
   "cell_type": "code",
   "execution_count": 6,
   "id": "497fee06",
   "metadata": {},
   "outputs": [],
   "source": [
    "# import openai\n",
    "from openai import OpenAI\n",
    "import os\n",
    "from dotenv import load_dotenv\n",
    "\n",
    "load_dotenv()\n",
    "api_key = os.getenv(\"OPENAI_API_KEY\")\n",
    "\n",
    "client = OpenAI(api_key=api_key)"
   ]
  },
  {
   "cell_type": "markdown",
   "id": "dafa7880",
   "metadata": {},
   "source": [
    "client.audio.transcriptions.create(\n",
    "file=..., # 필수: 오디오 파일 객체\n",
    "model=\"whisper-1\", # 필수: 모델 이름 (현재는 whisper-1 고정)\n",
    "prompt=..., # 선택: 힌트 문장 제공 (맥락 강화)\n",
    "response_format=..., # 선택: 응답 형식 (\"json\", \"text\", \"srt\", \"verbose_json\", \"vtt\")\n",
    "temperature=..., # 선택: 창의성/랜덤성 조절 (0.0~1.0)\n",
    "language=..., # 선택: 입력 음성의 언어 (예: \"en\", \"ko\", \"es\")\n",
    "timestamp_granularities=... # 선택: 세그먼트 정보 단위 설정 (베타)\n",
    ")"
   ]
  },
  {
   "cell_type": "code",
   "execution_count": 14,
   "id": "6f09a2ce",
   "metadata": {},
   "outputs": [
    {
     "name": "stdout",
     "output_type": "stream",
     "text": [
      "안녕! 오늘은 정말 화창한 봄날이네요. 조금 더워요.\n",
      "\n"
     ]
    }
   ],
   "source": [
    "# audio_file = open(\"speech.mp3\", \"rb\")\n",
    "audio_file = open(\"speech3.mp3\", \"rb\")\n",
    "\n",
    "\n",
    "response = client.audio.transcriptions.create(\n",
    "file=audio_file,\n",
    "model=\"whisper-1\",\n",
    "response_format=\"text\"\n",
    ")\n",
    "print(response)\n",
    "\n",
    "response = client.audio.transcriptions.create(\n",
    "file=audio_file,\n",
    "model=\"whisper-1\",\n",
    "response_format=\"text\" # 텍스트만 반환\n",
    ")"
   ]
  },
  {
   "cell_type": "code",
   "execution_count": null,
   "id": "8d239e11",
   "metadata": {},
   "outputs": [
    {
     "ename": "FileNotFoundError",
     "evalue": "[Errno 2] No such file or directory: 'spanish_audio.mp3'",
     "output_type": "error",
     "traceback": [
      "\u001b[31m---------------------------------------------------------------------------\u001b[39m",
      "\u001b[31mFileNotFoundError\u001b[39m                         Traceback (most recent call last)",
      "\u001b[36mCell\u001b[39m\u001b[36m \u001b[39m\u001b[32mIn[1]\u001b[39m\u001b[32m, line 2\u001b[39m\n\u001b[32m      1\u001b[39m \u001b[38;5;66;03m# 스페인어 음성파일 필사 예시\u001b[39;00m\n\u001b[32m----> \u001b[39m\u001b[32m2\u001b[39m audio_file = \u001b[38;5;28;43mopen\u001b[39;49m\u001b[43m(\u001b[49m\u001b[33;43m\"\u001b[39;49m\u001b[33;43mspanish_audio.mp3\u001b[39;49m\u001b[33;43m\"\u001b[39;49m\u001b[43m,\u001b[49m\u001b[43m \u001b[49m\u001b[33;43m\"\u001b[39;49m\u001b[33;43mrb\u001b[39;49m\u001b[33;43m\"\u001b[39;49m\u001b[43m)\u001b[49m\n\u001b[32m      3\u001b[39m transcripts_es = client.audio.transcriptions.create(\n\u001b[32m      4\u001b[39m     file = audio_file,\n\u001b[32m      5\u001b[39m     model = \u001b[33m\"\u001b[39m\u001b[33mwhisper-1\u001b[39m\u001b[33m\"\u001b[39m,\n\u001b[32m      6\u001b[39m     response_format = \u001b[33m\"\u001b[39m\u001b[33mtext\u001b[39m\u001b[33m\"\u001b[39m,\n\u001b[32m      7\u001b[39m     language = \u001b[33m'\u001b[39m\u001b[33mes\u001b[39m\u001b[33m'\u001b[39m \u001b[38;5;66;03m# 입력 음성 언어를 스페인어로 지정\u001b[39;00m\n\u001b[32m      8\u001b[39m )\n\u001b[32m     10\u001b[39m \u001b[38;5;28mprint\u001b[39m(transcripts_es)\n",
      "\u001b[36mFile \u001b[39m\u001b[32mc:\\Users\\main\\miniconda3\\envs\\openapi\\Lib\\site-packages\\IPython\\core\\interactiveshell.py:326\u001b[39m, in \u001b[36m_modified_open\u001b[39m\u001b[34m(file, *args, **kwargs)\u001b[39m\n\u001b[32m    319\u001b[39m \u001b[38;5;28;01mif\u001b[39;00m file \u001b[38;5;129;01min\u001b[39;00m {\u001b[32m0\u001b[39m, \u001b[32m1\u001b[39m, \u001b[32m2\u001b[39m}:\n\u001b[32m    320\u001b[39m     \u001b[38;5;28;01mraise\u001b[39;00m \u001b[38;5;167;01mValueError\u001b[39;00m(\n\u001b[32m    321\u001b[39m         \u001b[33mf\u001b[39m\u001b[33m\"\u001b[39m\u001b[33mIPython won\u001b[39m\u001b[33m'\u001b[39m\u001b[33mt let you open fd=\u001b[39m\u001b[38;5;132;01m{\u001b[39;00mfile\u001b[38;5;132;01m}\u001b[39;00m\u001b[33m by default \u001b[39m\u001b[33m\"\u001b[39m\n\u001b[32m    322\u001b[39m         \u001b[33m\"\u001b[39m\u001b[33mas it is likely to crash IPython. If you know what you are doing, \u001b[39m\u001b[33m\"\u001b[39m\n\u001b[32m    323\u001b[39m         \u001b[33m\"\u001b[39m\u001b[33myou can use builtins\u001b[39m\u001b[33m'\u001b[39m\u001b[33m open.\u001b[39m\u001b[33m\"\u001b[39m\n\u001b[32m    324\u001b[39m     )\n\u001b[32m--> \u001b[39m\u001b[32m326\u001b[39m \u001b[38;5;28;01mreturn\u001b[39;00m \u001b[43mio_open\u001b[49m\u001b[43m(\u001b[49m\u001b[43mfile\u001b[49m\u001b[43m,\u001b[49m\u001b[43m \u001b[49m\u001b[43m*\u001b[49m\u001b[43margs\u001b[49m\u001b[43m,\u001b[49m\u001b[43m \u001b[49m\u001b[43m*\u001b[49m\u001b[43m*\u001b[49m\u001b[43mkwargs\u001b[49m\u001b[43m)\u001b[49m\n",
      "\u001b[31mFileNotFoundError\u001b[39m: [Errno 2] No such file or directory: 'spanish_audio.mp3'"
     ]
    }
   ],
   "source": [
    "# 스페인어 음성파일 필사 예시\n",
    "# audio_file = open(\"spanish_audio.mp3\", \"rb\")\n",
    "transcripts_es = client.audio.transcriptions.create(\n",
    "    file = audio_file,\n",
    "    model = \"whisper-1\",\n",
    "    response_format = \"text\",\n",
    "    language = 'es' # 입력 음성 언어를 스페인어로 지정\n",
    ")\n",
    "\n",
    "print(transcripts_es)"
   ]
  }
 ],
 "metadata": {
  "kernelspec": {
   "display_name": "openapi",
   "language": "python",
   "name": "python3"
  },
  "language_info": {
   "codemirror_mode": {
    "name": "ipython",
    "version": 3
   },
   "file_extension": ".py",
   "mimetype": "text/x-python",
   "name": "python",
   "nbconvert_exporter": "python",
   "pygments_lexer": "ipython3",
   "version": "3.12.9"
  }
 },
 "nbformat": 4,
 "nbformat_minor": 5
}
