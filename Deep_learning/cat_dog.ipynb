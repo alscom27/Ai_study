{
 "cells": [
  {
   "cell_type": "markdown",
   "id": "0acbad69",
   "metadata": {},
   "source": [
    "### Cat & Dog classification"
   ]
  },
  {
   "cell_type": "code",
   "execution_count": 2,
   "id": "74239b45",
   "metadata": {},
   "outputs": [],
   "source": [
    "import tensorflow as tf\n",
    "from tensorflow.keras.models import Sequential\n",
    "from tensorflow.keras.applications import Xception\n",
    "from tensorflow.keras.layers import Flatten, Dense, Dropout, GlobalAveragePooling2D\n",
    "from tensorflow.keras.preprocessing.image import ImageDataGenerator"
   ]
  },
  {
   "cell_type": "code",
   "execution_count": null,
   "id": "f954030d",
   "metadata": {},
   "outputs": [],
   "source": [
    "### vscode 에서 오래 걸릴까봐 코랩에서 돌림"
   ]
  },
  {
   "cell_type": "code",
   "execution_count": null,
   "id": "685fb348",
   "metadata": {},
   "outputs": [],
   "source": [
    "!wget https://storage.googleapis.com/mledu-datasets/cats_and_dogs_filtered.zip"
   ]
  },
  {
   "cell_type": "code",
   "execution_count": null,
   "id": "42ec65d5",
   "metadata": {},
   "outputs": [],
   "source": [
    "import os\n",
    "import shutil\n",
    "\n",
    "if os.path.exists('/content/cats_and_dogs_filtered/'): # 작업 디렉토리는 cats_and_dogs_filtered\n",
    "\n",
    "    shutil.rmtree('/content/cats_and_dogs_filtered')\n",
    "    print('/content/cats_and_dogs_filtered/ is removed !!!')"
   ]
  },
  {
   "cell_type": "code",
   "execution_count": null,
   "id": "a8c6e85d",
   "metadata": {},
   "outputs": [],
   "source": [
    "import zipfile\n",
    "\n",
    "with zipfile.ZipFile('/content/cats_and_dogs_filtered.zip', 'r') as target_file:\n",
    "    target_file.extractall('/content/cats_and_dogs_filtered/')"
   ]
  },
  {
   "cell_type": "code",
   "execution_count": null,
   "id": "8a6c620e",
   "metadata": {},
   "outputs": [],
   "source": [
    "IMG_WIDTH = 224\n",
    "IMG_HEIGHT = 224"
   ]
  },
  {
   "cell_type": "code",
   "execution_count": null,
   "id": "b427b04b",
   "metadata": {},
   "outputs": [],
   "source": [
    "base_model = Xception(weights='imagenet', include_top=False, input_shape=(IMG_WIDTH, IMG_HEIGHT, 3))\n",
    "\n",
    "base_model.summary()"
   ]
  },
  {
   "cell_type": "code",
   "execution_count": null,
   "id": "c1dde774",
   "metadata": {},
   "outputs": [],
   "source": [
    "model = Sequential()\n",
    "\n",
    "model.add(base_model)\n",
    "\n",
    "model.add(GlobalAveragePooling2D())\n",
    "\n",
    "model.add(Dense(16, activation='relu'))\n",
    "model.add(Dropout(0.25))\n",
    "\n",
    "model.add(Dense(2, activation='softmax')) # 예측 결과가 2개(cat, dog)이므로 최종출력은 2\n",
    "\n",
    "model.summary()"
   ]
  },
  {
   "cell_type": "code",
   "execution_count": 3,
   "id": "59d23180",
   "metadata": {},
   "outputs": [],
   "source": [
    "train_data_gen = ImageDataGenerator(rescale=1./255, # 정규화\n",
    "                                    rotation_range=10, width_shift_range=0.1,\n",
    "                                    height_shift_range=0.1, shear_range=0.1, zoom_range=0.1)\n",
    "\n",
    "test_data_gen = ImageDataGenerator(rescale=1./255) # 정규화"
   ]
  },
  {
   "cell_type": "code",
   "execution_count": null,
   "id": "df9a2506",
   "metadata": {},
   "outputs": [],
   "source": [
    "train_dir = '/content/cats_and_dogs_filtered/cats_and_dogs_filtered/train'\n",
    "\n",
    "test_dir = '/content/cats_and_dogs_filtered/cats_and_dogs_filtered/validation'"
   ]
  },
  {
   "cell_type": "code",
   "execution_count": null,
   "id": "7058d223",
   "metadata": {},
   "outputs": [],
   "source": [
    "train_data = train_data_gen.flow_from_directory(train_dir, batch_size=32,\n",
    "                                                color_mode='rgb', shuffle=True, class_mode='categorical',\n",
    "                                                target_size=(IMG_WIDTH, IMG_HEIGHT))\n",
    "\n",
    "test_data = test_data_gen.flow_from_directory(test_dir, batch_size=32,\n",
    "                                              color_mode='rgb', shuffle=True, class_mode='categorical',\n",
    "                                              target_size=(IMG_WIDTH, IMG_HEIGHT))"
   ]
  },
  {
   "cell_type": "code",
   "execution_count": null,
   "id": "cc4d53cd",
   "metadata": {},
   "outputs": [
    {
     "ename": "NameError",
     "evalue": "name 'train_data' is not defined",
     "output_type": "error",
     "traceback": [
      "\u001b[31m---------------------------------------------------------------------------\u001b[39m",
      "\u001b[31mNameError\u001b[39m                                 Traceback (most recent call last)",
      "\u001b[36mCell\u001b[39m\u001b[36m \u001b[39m\u001b[32mIn[4]\u001b[39m\u001b[32m, line 1\u001b[39m\n\u001b[32m----> \u001b[39m\u001b[32m1\u001b[39m \u001b[38;5;28mprint\u001b[39m(\u001b[43mtrain_data\u001b[49m.class_indices.items())\n\u001b[32m      2\u001b[39m \u001b[38;5;28mprint\u001b[39m(test_data.class_indices.items())\n\u001b[32m      4\u001b[39m \u001b[38;5;28mprint\u001b[39m(\u001b[38;5;28mlen\u001b[39m(train_data.classes))\n",
      "\u001b[31mNameError\u001b[39m: name 'train_data' is not defined"
     ]
    }
   ],
   "source": [
    "print(train_data.class_indices.items())\n",
    "print(test_data.class_indices.items())\n",
    "\n",
    "print(len(train_data.classes))\n",
    "print(len(test_data.classes))\n",
    "\n",
    "print(train_data.num_classes)\n",
    "print(test_data.num_classes)"
   ]
  },
  {
   "cell_type": "code",
   "execution_count": null,
   "id": "eeaa31ce",
   "metadata": {},
   "outputs": [],
   "source": [
    "# 모델 컴파일\n",
    "model.compile(loss='categorical_crossentropy',\n",
    "              optimizer=tf.keras.optimizers.Adam(0.00002), metrics=['accuracy'])"
   ]
  },
  {
   "cell_type": "code",
   "execution_count": null,
   "id": "cc18040a",
   "metadata": {},
   "outputs": [],
   "source": [
    "from datetime import datetime\n",
    "from tensorflow.keras.callbacks import ModelCheckpoint, EarlyStopping\n",
    "\n",
    "save_file_name = './cats_and_dogs_filtered_Xception_Colab.h5'\n",
    "\n",
    "checkpoint = ModelCheckpoint(save_file_name,\n",
    "                             monitor='val_loss',\n",
    "                             verbose=1,\n",
    "                             save_best_only=True,\n",
    "                             mode='auto')\n",
    "\n",
    "earlystopping = EarlyStopping(monitor='val_loss',\n",
    "                              patience=5)\n",
    "\n",
    "start_time = datetime.now()\n",
    "\n",
    "hist = model.fit(train_data, epochs=30,\n",
    "                 validation_data=test_data,\n",
    "                 callbacks=[checkpoint, earlystopping])"
   ]
  },
  {
   "cell_type": "code",
   "execution_count": null,
   "id": "21956a2d",
   "metadata": {},
   "outputs": [],
   "source": [
    "print(f\"Min Validation Loss : {min(hist.history['val_loss'])}\")\n",
    "print(f\"Max Validation Accuracy : {max(hist.history['val_accuracy'])}\")"
   ]
  },
  {
   "cell_type": "code",
   "execution_count": null,
   "id": "0b2e1179",
   "metadata": {},
   "outputs": [],
   "source": [
    "import matplotlib.pyplot as plt\n",
    "\n",
    "plt.title('accuracy trend')\n",
    "plt.grid()\n",
    "plt.xlabel('epochs')\n",
    "plt.ylabel('accuracy')\n",
    "plt.plot(hist.history['accuracy'], label='train')\n",
    "plt.plot(hist.history['val_accuracy'], label='validation')\n",
    "plt.legend(loc='best')\n",
    "plt.show()"
   ]
  },
  {
   "cell_type": "code",
   "execution_count": null,
   "id": "2e83a823",
   "metadata": {},
   "outputs": [],
   "source": [
    "import matplotlib.pyplot as plt\n",
    "\n",
    "plt.title('loss trend')\n",
    "plt.grid()\n",
    "plt.xlabel('epochs')\n",
    "plt.ylabel('loss')\n",
    "plt.plot(hist.history['loss'], label='train')\n",
    "plt.plot(hist.history['val_loss'], label='validation')\n",
    "plt.legend(loc='best')\n",
    "plt.show()"
   ]
  },
  {
   "cell_type": "code",
   "execution_count": null,
   "id": "9de5b033",
   "metadata": {},
   "outputs": [],
   "source": [
    "# 코랩에서 구글드라이브 연동전에 해야함.\n",
    "from google.colab import drive\n",
    "\n",
    "drive.mount('/content/drive')"
   ]
  },
  {
   "cell_type": "code",
   "execution_count": null,
   "id": "4569280e",
   "metadata": {},
   "outputs": [],
   "source": [
    "import cv2\n",
    "import glob\n",
    "\n",
    "test_img_name_list = glob.glob('/content/drive/MyDrive/cat_dog/*')\n",
    "\n",
    "for i in range(len(test_img_name_list)):\n",
    "    # 이미지 로드 및 전처리\n",
    "    src_img = cv2.imread(test_img_name_list[i], cv2.IMREAD_COLOR)\n",
    "    src_img = cv2.resize(src_img, dsize=(IMG_WIDTH, IMG_HEIGHT))\n",
    "    dst_img = cv2.cvtColor(src_img, cv2.COLOR_BGR2RGB)\n",
    "    dst_img = dst_img / 255.0\n",
    "    \n",
    "    # 전처리된 이미지로 덮어쓰기\n",
    "    test_img_name_list[i] = dst_img\n",
    "    \n",
    "print(len(test_img_name_list))"
   ]
  },
  {
   "cell_type": "code",
   "execution_count": null,
   "id": "34de2414",
   "metadata": {},
   "outputs": [],
   "source": [
    "# 이미지 리스트 출력\n",
    "import matplotlib.pyplot as plt\n",
    "\n",
    "plt.figure(figsize=(12,5))\n",
    "for i in range(10):\n",
    "    plt.subplot(2,5,i+1)\n",
    "    plt.axis('off')\n",
    "    plt.imshow(test_img_name_list[i])\n",
    "plt.show()\n",
    "\n",
    "# 이미지 shape 확인\n",
    "print(test_img_name_list[0].shape)"
   ]
  },
  {
   "cell_type": "code",
   "execution_count": null,
   "id": "fbdc10e2",
   "metadata": {},
   "outputs": [],
   "source": [
    "import numpy as np\n",
    "print(np.array(test_img_name_list).shape)\n",
    "\n",
    "# 모델 예측\n",
    "class_name = ['cat', 'dog']\n",
    "pred = model.predict(np.array(test_img_name_list))\n",
    "print(pred.shape)\n",
    "print(pred)"
   ]
  },
  {
   "cell_type": "code",
   "execution_count": null,
   "id": "9c54bbe8",
   "metadata": {},
   "outputs": [],
   "source": [
    "# 예측 결과 시각화\n",
    "plt.figure(figsize=(12, 5))\n",
    "for i in range(10):\n",
    "    plt.subplot(2, 5, i+1)\n",
    "    prediction = str(class_name[np.argmax(pred[i])])\n",
    "    probility = '{0:0.2f}'.format(100*max(pred[i]))\n",
    "    title_str = prediction + ', ' + probility + '%'\n",
    "    plt.axis('off')\n",
    "    plt.title(title_str)\n",
    "    plt.imshow(test_img_name_list[i])\n",
    "plt.show()"
   ]
  },
  {
   "cell_type": "code",
   "execution_count": null,
   "id": "6d29cf9f",
   "metadata": {},
   "outputs": [],
   "source": [
    "import tensorflow as tf\n",
    "from tensorflow.keras.models import load_model\n",
    "from tensorflow.keras.preprocessing.image import load_img, img_to_array\n",
    "import numpy as np\n",
    "\n",
    "# 모델 불러오기\n",
    "model = load_model('/content/cats_and_dogs_filtered_Xception_Colab.h5')\n",
    "\n",
    "# 이미지 경로 지정\n",
    "image_path = '/content/다운로드.jpg'\n",
    "\n",
    "# 이미지 불러오기 및 전처리\n",
    "image = load_img(image_path, target_size=(224,224))\n",
    "image = img_to_array(image)\n",
    "image = np.expand_dims(image, axis=0)\n",
    "image = image / 255.0 # 이미지 정규화\n",
    "\n",
    "# 예측 수행\n",
    "class_name = ['cat', 'dog']\n",
    "predictions = model.predict(image)\n",
    "predicted_class = str(class_name[np.argmax(predictions)])\n",
    "\n",
    "# 예측 결과 출력\n",
    "print(f'Predicted class : {predicted_class}')"
   ]
  }
 ],
 "metadata": {
  "kernelspec": {
   "display_name": "dl",
   "language": "python",
   "name": "python3"
  },
  "language_info": {
   "codemirror_mode": {
    "name": "ipython",
    "version": 3
   },
   "file_extension": ".py",
   "mimetype": "text/x-python",
   "name": "python",
   "nbconvert_exporter": "python",
   "pygments_lexer": "ipython3",
   "version": "3.12.9"
  }
 },
 "nbformat": 4,
 "nbformat_minor": 5
}
