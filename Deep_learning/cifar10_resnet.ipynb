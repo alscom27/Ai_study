{
 "cells": [
  {
   "cell_type": "markdown",
   "id": "2f95f0aa",
   "metadata": {},
   "source": [
    "### ResNet"
   ]
  },
  {
   "cell_type": "code",
   "execution_count": 1,
   "id": "c9150920",
   "metadata": {},
   "outputs": [],
   "source": [
    "import tensorflow as tf\n",
    "from tensorflow.keras import layers, models\n",
    "from tensorflow.keras.applications import VGG16, ResNet50\n",
    "from tensorflow.keras.datasets import cifar10\n",
    "from tensorflow.keras.utils import to_categorical"
   ]
  },
  {
   "cell_type": "code",
   "execution_count": 3,
   "id": "ffa6e155",
   "metadata": {},
   "outputs": [],
   "source": [
    "(X_train, y_train), (X_test, y_test) = cifar10.load_data()\n",
    "\n",
    "X_train, X_test = X_train/255.0, X_test/255.0 # 정규화\n",
    "y_train, y_test = to_categorical(y_train, 10), to_categorical(y_test, 10) # 원-핫 인코딩"
   ]
  },
  {
   "cell_type": "code",
   "execution_count": null,
   "id": "afdbc6d5",
   "metadata": {},
   "outputs": [],
   "source": [
    "# 1. 일반 CNN 모델 정의\n",
    "def build_cnn():\n",
    "    model = models.Sequential([\n",
    "        layers.Conv2D(32, (3,3), activation='relu', padding='same', input_shape=(32,32,3)),\n",
    "        layers.MaxPool2D((2,2)),\n",
    "        layers.Conv2D(64, (3,3), activation='relu', padding='same'),\n",
    "        layers.MaxPool2D((2,2)),\n",
    "        layers.Conv2D(128, (3,3), activation='relu', padding='same'),\n",
    "        layers.MaxPool2D((2,2)),\n",
    "        layers.Flatten(),\n",
    "        layers.Dense(128, activation='relu'),\n",
    "        layers.Dense(10, activation='softmax')\n",
    "    ])\n",
    "    model.compile(optimizer='adam', loss='categorical_crossentropy', metrics=['accuracy'])\n",
    "    return model"
   ]
  },
  {
   "cell_type": "code",
   "execution_count": 5,
   "id": "055b9fef",
   "metadata": {},
   "outputs": [],
   "source": [
    "# 2. VGG16 모델 (Pretrained 사용)\n",
    "def build_vgg16():\n",
    "    base_model = VGG16(weights='imagenet', include_top=False, input_shape=(32,32,3))\n",
    "    base_model.trainable = False # 기존 가중치 동결(Fine-tuning 가능)\n",
    "    \n",
    "    model = models.Sequential([\n",
    "        base_model,\n",
    "        layers.Flatten(),\n",
    "        layers.Dense(256, activation='relu'),\n",
    "        layers.Dense(10, activation='softmax')\n",
    "    ])\n",
    "    model.compile(optimizer='adam', loss='categorical_crossentropy', metrics=['accuracy'])\n",
    "    return model"
   ]
  },
  {
   "cell_type": "code",
   "execution_count": 6,
   "id": "3977528d",
   "metadata": {},
   "outputs": [],
   "source": [
    "# 3. ResNet50 모델 (Pretrained 사용)\n",
    "def build_resnet50():\n",
    "    base_model = ResNet50(weights='imagenet', include_top=False, input_shape=(32,32,3))\n",
    "    base_model.trainable = False # 기존 가중치 동결\n",
    "    \n",
    "    model = models.Sequential([\n",
    "        base_model,\n",
    "        layers.GlobalMaxPooling2D(),\n",
    "        layers.Dense(256, activation='relu'),\n",
    "        layers.Dense(10, activation='softmax')\n",
    "    ])\n",
    "    model.compile(optimizer='adam', loss='categorical_crossentropy', metrics=['accuracy'])\n",
    "    return model"
   ]
  },
  {
   "cell_type": "code",
   "execution_count": 7,
   "id": "ea01dab2",
   "metadata": {},
   "outputs": [],
   "source": [
    "# 모델 학습 및 평가\n",
    "def train_and_evaluate(model, name, epochs=5):\n",
    "    print(f'\\nTraining {name}...')\n",
    "    model.fit(X_train, y_train, epochs=epochs, batch_size=128, validation_data=(X_test,y_test), verbose=2)\n",
    "    test_loss, test_acc = model.evaluate(X_test, y_test, verbose=0)\n",
    "    print(f'{name} Test Accuracy : {test_acc:.4f}')\n",
    "    return test_acc"
   ]
  },
  {
   "cell_type": "code",
   "execution_count": 8,
   "id": "d4d94eff",
   "metadata": {},
   "outputs": [
    {
     "name": "stderr",
     "output_type": "stream",
     "text": [
      "c:\\Users\\main\\miniconda3\\envs\\dl\\Lib\\site-packages\\keras\\src\\layers\\convolutional\\base_conv.py:113: UserWarning: Do not pass an `input_shape`/`input_dim` argument to a layer. When using Sequential models, prefer using an `Input(shape)` object as the first layer in the model instead.\n",
      "  super().__init__(activity_regularizer=activity_regularizer, **kwargs)\n"
     ]
    },
    {
     "name": "stdout",
     "output_type": "stream",
     "text": [
      "Downloading data from https://storage.googleapis.com/tensorflow/keras-applications/vgg16/vgg16_weights_tf_dim_ordering_tf_kernels_notop.h5\n",
      "\u001b[1m58889256/58889256\u001b[0m \u001b[32m━━━━━━━━━━━━━━━━━━━━\u001b[0m\u001b[37m\u001b[0m \u001b[1m2s\u001b[0m 0us/step\n",
      "Downloading data from https://storage.googleapis.com/tensorflow/keras-applications/resnet/resnet50_weights_tf_dim_ordering_tf_kernels_notop.h5\n",
      "\u001b[1m94765736/94765736\u001b[0m \u001b[32m━━━━━━━━━━━━━━━━━━━━\u001b[0m\u001b[37m\u001b[0m \u001b[1m3s\u001b[0m 0us/step\n",
      "\n",
      "Training CNN...\n",
      "Epoch 1/5\n",
      "391/391 - 25s - 65ms/step - accuracy: 0.4514 - loss: 1.5166 - val_accuracy: 0.5826 - val_loss: 1.1746\n",
      "Epoch 2/5\n",
      "391/391 - 21s - 55ms/step - accuracy: 0.6157 - loss: 1.0916 - val_accuracy: 0.6413 - val_loss: 1.0126\n",
      "Epoch 3/5\n",
      "391/391 - 20s - 52ms/step - accuracy: 0.6787 - loss: 0.9218 - val_accuracy: 0.6878 - val_loss: 0.9148\n",
      "Epoch 4/5\n",
      "391/391 - 19s - 48ms/step - accuracy: 0.7125 - loss: 0.8269 - val_accuracy: 0.7141 - val_loss: 0.8304\n",
      "Epoch 5/5\n",
      "391/391 - 22s - 55ms/step - accuracy: 0.7445 - loss: 0.7326 - val_accuracy: 0.6988 - val_loss: 0.8730\n",
      "CNN Test Accuracy : 0.6988\n",
      "\n",
      "Training VGG16...\n",
      "Epoch 1/5\n",
      "391/391 - 171s - 438ms/step - accuracy: 0.5106 - loss: 1.4128 - val_accuracy: 0.5577 - val_loss: 1.2721\n",
      "Epoch 2/5\n",
      "391/391 - 174s - 445ms/step - accuracy: 0.5830 - loss: 1.2040 - val_accuracy: 0.5744 - val_loss: 1.2098\n",
      "Epoch 3/5\n",
      "391/391 - 162s - 415ms/step - accuracy: 0.6007 - loss: 1.1465 - val_accuracy: 0.5810 - val_loss: 1.1964\n",
      "Epoch 4/5\n",
      "391/391 - 169s - 433ms/step - accuracy: 0.6165 - loss: 1.1052 - val_accuracy: 0.5880 - val_loss: 1.1767\n",
      "Epoch 5/5\n",
      "391/391 - 158s - 404ms/step - accuracy: 0.6252 - loss: 1.0741 - val_accuracy: 0.6011 - val_loss: 1.1376\n",
      "VGG16 Test Accuracy : 0.6011\n",
      "\n",
      "Training ResNet50...\n",
      "Epoch 1/5\n",
      "391/391 - 133s - 340ms/step - accuracy: 0.2302 - loss: 2.1132 - val_accuracy: 0.2846 - val_loss: 1.9707\n",
      "Epoch 2/5\n",
      "391/391 - 119s - 304ms/step - accuracy: 0.3076 - loss: 1.9148 - val_accuracy: 0.3250 - val_loss: 1.8717\n",
      "Epoch 3/5\n",
      "391/391 - 117s - 298ms/step - accuracy: 0.3356 - loss: 1.8457 - val_accuracy: 0.3337 - val_loss: 1.8347\n",
      "Epoch 4/5\n",
      "391/391 - 115s - 293ms/step - accuracy: 0.3486 - loss: 1.8060 - val_accuracy: 0.3392 - val_loss: 1.8090\n",
      "Epoch 5/5\n",
      "391/391 - 114s - 291ms/step - accuracy: 0.3599 - loss: 1.7812 - val_accuracy: 0.3673 - val_loss: 1.7648\n",
      "ResNet50 Test Accuracy : 0.3673\n",
      "\n",
      "Final Accuracy Comparison :\n",
      "CNN Accuracy : 0.6988\n",
      "VGG16 Accuracy : 0.6011\n",
      "ResNet50 Accuracy : 0.3673\n"
     ]
    }
   ],
   "source": [
    "# 실행\n",
    "cnn_model = build_cnn()\n",
    "vgg16_model = build_vgg16()\n",
    "resnet50_model = build_resnet50()\n",
    "\n",
    "cnn_acc = train_and_evaluate(cnn_model, \"CNN\")\n",
    "vgg_acc = train_and_evaluate(vgg16_model, 'VGG16')\n",
    "res_acc = train_and_evaluate(resnet50_model, \"ResNet50\")\n",
    "\n",
    "# 최종 결과 출력\n",
    "print(f\"\\nFinal Accuracy Comparison :\")\n",
    "print(f\"CNN Accuracy : {cnn_acc:.4f}\")\n",
    "print(f\"VGG16 Accuracy : {vgg_acc:.4f}\")\n",
    "print(f\"ResNet50 Accuracy : {res_acc:.4f}\")\n"
   ]
  }
 ],
 "metadata": {
  "kernelspec": {
   "display_name": "dl",
   "language": "python",
   "name": "python3"
  },
  "language_info": {
   "codemirror_mode": {
    "name": "ipython",
    "version": 3
   },
   "file_extension": ".py",
   "mimetype": "text/x-python",
   "name": "python",
   "nbconvert_exporter": "python",
   "pygments_lexer": "ipython3",
   "version": "3.12.9"
  }
 },
 "nbformat": 4,
 "nbformat_minor": 5
}
