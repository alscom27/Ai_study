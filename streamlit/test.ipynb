import os

if os.environ.get("CONDA_DEFAULT_ENV"):
    print(f"현재 콘다 가상환경 : {os.environ['CONDA_DEFAULT_ENV']}")
else:
    print("아님ㄴ")
