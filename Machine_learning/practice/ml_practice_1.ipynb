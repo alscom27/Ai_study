{
 "cells": [
  {
   "cell_type": "markdown",
   "id": "b2df6948",
   "metadata": {},
   "source": [
    "### 연습 문제..."
   ]
  },
  {
   "cell_type": "markdown",
   "id": "88cc933e",
   "metadata": {},
   "source": [
    "#### 머신러닝 문제"
   ]
  },
  {
   "cell_type": "markdown",
   "id": "96815b87",
   "metadata": {},
   "source": [
    "초급 1 : iris 품종 예측\n",
    "\n",
    "목표 : iris 데이터셋을 이용해 꽃의 품종을 예측하는 분류 모델을 만들어라.\n",
    "\n",
    "조건 :\n",
    "- 데이터셋 로딩 후 train/test로 분리\n",
    "- 적절한 분류 모델 사용(자유롭게 선택)\n",
    "- 모델 정확도 출력\n",
    "- 예측값 vs 실제값을 비교"
   ]
  },
  {
   "cell_type": "code",
   "execution_count": null,
   "id": "98c4b91c",
   "metadata": {},
   "outputs": [],
   "source": [
    "from sklearn.datasets import load_iris\n",
    "from sklearn.model_selection import train_test_split\n",
    "\n",
    "iris = load_iris()\n",
    "\n",
    "X = iris.data\n",
    "y = iris.target\n",
    "\n",
    "X_train, X_test, y_train, y_test = train_test_split(X, y, test_size=0.2)\n",
    "\n",
    "\n"
   ]
  },
  {
   "cell_type": "markdown",
   "id": "f26d8d47",
   "metadata": {},
   "source": [
    "중급 1 : 타이타닉 생존 \n",
    "\n",
    "목표 : 타이타닉 승객 정보로 생존 여부를 예측해보자.\n",
    "\n",
    "조건 :\n",
    "- Kaggle에서 타이타닉 데이터셋 다운로드\n",
    "- 결측치 처리, 범주형 인코딩 필수\n",
    "- GridSearch로 최적 파라미터 찾기\n",
    "- 성능 평가 (accuracy, confusion matrix)"
   ]
  },
  {
   "cell_type": "code",
   "execution_count": null,
   "id": "3efd98e9",
   "metadata": {},
   "outputs": [],
   "source": []
  },
  {
   "cell_type": "markdown",
   "id": "cd16bea3",
   "metadata": {},
   "source": [
    "고급 1 : MNIST 손글씨 분류\n",
    "\n",
    "목표 : 손글씨 이미지(MNIST)를 다양한 모델로 분류해 비교해보자.\n",
    "\n",
    "조건 :\n",
    "- 최소 두 개 이상의 모델로 분류 (예: SVM vs RandomForest)\n",
    "- 정확도 비교\n",
    "- 혼동 행렬 시각화\n",
    "- 학습 시간 측정 및 비교"
   ]
  },
  {
   "cell_type": "code",
   "execution_count": null,
   "id": "19ecaa7f",
   "metadata": {},
   "outputs": [],
   "source": []
  },
  {
   "cell_type": "markdown",
   "id": "4b12ab7f",
   "metadata": {},
   "source": [
    "#### 시각화 문제"
   ]
  },
  {
   "cell_type": "markdown",
   "id": "0035550f",
   "metadata": {},
   "source": [
    "초급 : Iris 데이터 시각화\n",
    "목표 : sepal length, petal width 등 특성 간의 관계를 시각화\n",
    "조건 :\n",
    "- seaborn의 pariplot 또는 matplotlib 활용\n",
    "- 품종별 색상 구분\n",
    "- 그래프 제목, 축 이름 추가"
   ]
  },
  {
   "cell_type": "code",
   "execution_count": null,
   "id": "751993d3",
   "metadata": {},
   "outputs": [],
   "source": []
  },
  {
   "cell_type": "markdown",
   "id": "f5130ae6",
   "metadata": {},
   "source": [
    "중급 : 분류 모델 평가 시각화\n",
    "목표 : 분류 모델의 ㅣ성능을 그래프로 확인하자\n",
    "조건 :\n",
    "- confusion matrix를 시각화\n",
    "- ROC Curve 또는 PR Curve를 직접 그리기\n",
    "- 여러 모델을 비교할 수 있도록 구성"
   ]
  },
  {
   "cell_type": "code",
   "execution_count": null,
   "id": "fdebcb3a",
   "metadata": {},
   "outputs": [],
   "source": []
  },
  {
   "cell_type": "markdown",
   "id": "d9d7c3a5",
   "metadata": {},
   "source": [
    "고급 : Plotly + Streamlit 대화형 시각화\n",
    "목표 : 사용자 업로드 CSV 파일을 기반으로 시각화 대시보드를 구현하라.\n",
    "조건 :\n",
    "- Plotly로 그래프 구현\n",
    "- Streamlit으로 CSV 업로드 기능 추가\n",
    "- 선택한 열에 따라 그래프가 동적으로 변하도록 구성\n",
    "- 예 : Feature Importance 시각화, 히트맵 등"
   ]
  },
  {
   "cell_type": "code",
   "execution_count": null,
   "id": "6c44b0d5",
   "metadata": {},
   "outputs": [],
   "source": []
  }
 ],
 "metadata": {
  "kernelspec": {
   "display_name": "ml",
   "language": "python",
   "name": "python3"
  },
  "language_info": {
   "codemirror_mode": {
    "name": "ipython",
    "version": 3
   },
   "file_extension": ".py",
   "mimetype": "text/x-python",
   "name": "python",
   "nbconvert_exporter": "python",
   "pygments_lexer": "ipython3",
   "version": "3.12.9"
  }
 },
 "nbformat": 4,
 "nbformat_minor": 5
}
