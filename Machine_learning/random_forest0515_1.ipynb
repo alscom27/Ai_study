{
 "cells": [
  {
   "cell_type": "markdown",
   "id": "7f1320f3",
   "metadata": {},
   "source": [
    "### Random Forest"
   ]
  },
  {
   "cell_type": "code",
   "execution_count": 1,
   "id": "655804df",
   "metadata": {},
   "outputs": [],
   "source": [
    "from sklearn.datasets import load_iris, load_wine, load_breast_cancer, load_diabetes\n",
    "from sklearn.preprocessing import StandardScaler\n",
    "from sklearn.pipeline import make_pipeline\n",
    "from sklearn.model_selection import cross_validate"
   ]
  },
  {
   "cell_type": "code",
   "execution_count": 2,
   "id": "435b19ea",
   "metadata": {},
   "outputs": [],
   "source": [
    "from sklearn.ensemble import BaggingClassifier\n",
    "from sklearn.neighbors import KNeighborsClassifier\n",
    "from sklearn.svm import SVC\n",
    "from sklearn.tree import DecisionTreeClassifier"
   ]
  },
  {
   "cell_type": "code",
   "execution_count": 3,
   "id": "f15bf57a",
   "metadata": {},
   "outputs": [],
   "source": [
    "from sklearn.ensemble import BaggingRegressor\n",
    "from sklearn.neighbors import KNeighborsRegressor\n",
    "from sklearn.svm import SVR\n",
    "from sklearn.tree import DecisionTreeRegressor"
   ]
  },
  {
   "cell_type": "code",
   "execution_count": 4,
   "id": "8aabc75a",
   "metadata": {},
   "outputs": [],
   "source": [
    "from sklearn.ensemble import RandomForestClassifier, ExtraTreesClassifier\n",
    "from sklearn.ensemble import RandomForestRegressor, ExtraTreesRegressor"
   ]
  },
  {
   "cell_type": "code",
   "execution_count": 5,
   "id": "1764a120",
   "metadata": {},
   "outputs": [],
   "source": [
    "iris = load_iris()\n",
    "wine = load_wine()\n",
    "cancer = load_breast_cancer()"
   ]
  },
  {
   "cell_type": "markdown",
   "id": "2dc997ac",
   "metadata": {},
   "source": [
    "#### comparison with KNN Bagging"
   ]
  },
  {
   "cell_type": "code",
   "execution_count": 6,
   "id": "2e41d84e",
   "metadata": {},
   "outputs": [],
   "source": [
    "KB_model = make_pipeline(\n",
    "    StandardScaler(),\n",
    "    KNeighborsClassifier()\n",
    ")\n",
    "\n",
    "bagging_model = BaggingClassifier(KB_model, n_estimators=10, max_samples=0.5, max_features=0.5)"
   ]
  },
  {
   "cell_type": "markdown",
   "id": "625b79cd",
   "metadata": {},
   "source": [
    "#### KNN Bagging with IRIS"
   ]
  },
  {
   "cell_type": "code",
   "execution_count": 8,
   "id": "55d110a6",
   "metadata": {},
   "outputs": [
    {
     "name": "stdout",
     "output_type": "stream",
     "text": [
      "KB_model\n",
      "평균 fit time : 0.0017156600952148438\n",
      "평균 score time : 0.003604555130004883\n",
      "평균 test score : 0.96\n"
     ]
    }
   ],
   "source": [
    "cross_val = cross_validate(\n",
    "    estimator=KB_model,\n",
    "    X = iris.data, y = iris.target, \n",
    "    cv=5\n",
    ")\n",
    "\n",
    "print(\"KB_model\")\n",
    "print(f\"평균 fit time : {cross_val['fit_time'].mean()}\")\n",
    "print(f\"평균 score time : {cross_val['score_time'].mean()}\")\n",
    "print(f\"평균 test score : {cross_val['test_score'].mean()}\")"
   ]
  },
  {
   "cell_type": "code",
   "execution_count": 9,
   "id": "b35e3e98",
   "metadata": {},
   "outputs": [
    {
     "name": "stdout",
     "output_type": "stream",
     "text": [
      "bagging_model\n",
      "평균 fit time : 0.01171875\n",
      "평균 score time : 0.006546592712402344\n",
      "평균 test score : 0.9466666666666665\n"
     ]
    }
   ],
   "source": [
    "cross_val = cross_validate(\n",
    "    estimator= bagging_model,\n",
    "    X=iris.data, y = iris.target,\n",
    "    cv=5\n",
    ")\n",
    "\n",
    "print(\"bagging_model\")\n",
    "print(f\"평균 fit time : {cross_val['fit_time'].mean()}\")\n",
    "print(f\"평균 score time : {cross_val['score_time'].mean()}\")\n",
    "print(f\"평균 test score : {cross_val['test_score'].mean()}\")"
   ]
  },
  {
   "cell_type": "markdown",
   "id": "a2c7e399",
   "metadata": {},
   "source": [
    "#### KNN Bagging with WINE"
   ]
  },
  {
   "cell_type": "code",
   "execution_count": 10,
   "id": "277cc150",
   "metadata": {},
   "outputs": [
    {
     "name": "stdout",
     "output_type": "stream",
     "text": [
      "KB_model\n",
      "평균 fit time : 0.0016893863677978516\n",
      "평균 score time : 0.0031976222991943358\n",
      "평균 test score : 0.9493650793650794\n"
     ]
    }
   ],
   "source": [
    "cross_val = cross_validate(\n",
    "    estimator=KB_model,\n",
    "    X = wine.data, y=wine.target,\n",
    "    cv=5\n",
    ")\n",
    "\n",
    "print(\"KB_model\")\n",
    "print(f\"평균 fit time : {cross_val['fit_time'].mean()}\")\n",
    "print(f\"평균 score time : {cross_val['score_time'].mean()}\")\n",
    "print(f\"평균 test score : {cross_val['test_score'].mean()}\")"
   ]
  },
  {
   "cell_type": "code",
   "execution_count": 11,
   "id": "27842574",
   "metadata": {},
   "outputs": [
    {
     "name": "stdout",
     "output_type": "stream",
     "text": [
      "bagging_model\n",
      "평균 fit time : 0.011741828918457032\n",
      "평균 score time : 0.00609283447265625\n",
      "평균 test score : 0.9663492063492063\n"
     ]
    }
   ],
   "source": [
    "cross_val = cross_validate(\n",
    "    estimator=bagging_model,\n",
    "    X=wine.data, y=wine.target,\n",
    "    cv=5\n",
    ")\n",
    "\n",
    "print(\"bagging_model\")\n",
    "print(f\"평균 fit time : {cross_val['fit_time'].mean()}\")\n",
    "print(f\"평균 score time : {cross_val['score_time'].mean()}\")\n",
    "print(f\"평균 test score : {cross_val['test_score'].mean()}\")"
   ]
  },
  {
   "cell_type": "markdown",
   "id": "8d4ddb20",
   "metadata": {},
   "source": [
    "#### KNN Bagging with Breast_Cancer"
   ]
  },
  {
   "cell_type": "code",
   "execution_count": 12,
   "id": "e997b6a5",
   "metadata": {},
   "outputs": [
    {
     "name": "stdout",
     "output_type": "stream",
     "text": [
      "KB_model\n",
      "평균 fit time : 0.0014884471893310547\n",
      "평균 score time : 0.6988715171813965\n",
      "평균 test score : 0.9648501785437045\n"
     ]
    }
   ],
   "source": [
    "cross_val = cross_validate(\n",
    "    estimator=KB_model,\n",
    "    X=cancer.data, y=cancer.target,\n",
    "    cv=5\n",
    ")\n",
    "\n",
    "\n",
    "print(\"KB_model\")\n",
    "print(f\"평균 fit time : {cross_val['fit_time'].mean()}\")\n",
    "print(f\"평균 score time : {cross_val['score_time'].mean()}\")\n",
    "print(f\"평균 test score : {cross_val['test_score'].mean()}\")"
   ]
  },
  {
   "cell_type": "code",
   "execution_count": 13,
   "id": "5737d857",
   "metadata": {},
   "outputs": [
    {
     "name": "stdout",
     "output_type": "stream",
     "text": [
      "bagging_model\n",
      "평균 fit time : 0.015011215209960937\n",
      "평균 score time : 0.0070953369140625\n",
      "평균 test score : 0.9613414066138798\n"
     ]
    }
   ],
   "source": [
    "cross_val = cross_validate(\n",
    "    estimator=bagging_model,\n",
    "    X=cancer.data, y=cancer.target,\n",
    "    cv=5\n",
    ")\n",
    "\n",
    "print(\"bagging_model\")\n",
    "print(f\"평균 fit time : {cross_val['fit_time'].mean()}\")\n",
    "print(f\"평균 score time : {cross_val['score_time'].mean()}\")\n",
    "print(f\"평균 test score : {cross_val['test_score'].mean()}\")"
   ]
  },
  {
   "cell_type": "markdown",
   "id": "5520ffa8",
   "metadata": {},
   "source": [
    "#### comparison with SVC Bagging"
   ]
  },
  {
   "cell_type": "code",
   "execution_count": 14,
   "id": "805cafe2",
   "metadata": {},
   "outputs": [],
   "source": [
    "SB_model = make_pipeline(\n",
    "    StandardScaler(),\n",
    "    SVC()\n",
    ")\n",
    "\n",
    "Sbagging_model = BaggingClassifier(SB_model, n_estimators=10, max_samples=1.0, max_features=1.0)"
   ]
  },
  {
   "cell_type": "markdown",
   "id": "01b6d113",
   "metadata": {},
   "source": [
    "#### SVC Bagging with IRIS"
   ]
  },
  {
   "cell_type": "code",
   "execution_count": 15,
   "id": "50b71204",
   "metadata": {},
   "outputs": [
    {
     "name": "stdout",
     "output_type": "stream",
     "text": [
      "SB_model\n",
      "평균 fit time : 0.0032828807830810546\n",
      "평균 score time : 0.0011794090270996094\n",
      "평균 test score : 0.9666666666666666\n"
     ]
    }
   ],
   "source": [
    "cross_val = cross_validate(\n",
    "    estimator=SB_model,\n",
    "    X=iris.data, y=iris.target,\n",
    "    cv=5\n",
    ")\n",
    "\n",
    "print(\"SB_model\")\n",
    "print(f\"평균 fit time : {cross_val['fit_time'].mean()}\")\n",
    "print(f\"평균 score time : {cross_val['score_time'].mean()}\")\n",
    "print(f\"평균 test score : {cross_val['test_score'].mean()}\")"
   ]
  },
  {
   "cell_type": "code",
   "execution_count": 16,
   "id": "830de026",
   "metadata": {},
   "outputs": [
    {
     "name": "stdout",
     "output_type": "stream",
     "text": [
      "Sbagging_model\n",
      "평균 fit time : 0.01695423126220703\n",
      "평균 score time : 0.0058258056640625\n",
      "평균 test score : 0.9666666666666666\n"
     ]
    }
   ],
   "source": [
    "cross_val = cross_validate(\n",
    "    estimator=Sbagging_model,\n",
    "    X=iris.data, y=iris.target,\n",
    "    cv=5\n",
    ")\n",
    "\n",
    "print(\"Sbagging_model\")\n",
    "print(f\"평균 fit time : {cross_val['fit_time'].mean()}\")\n",
    "print(f\"평균 score time : {cross_val['score_time'].mean()}\")\n",
    "print(f\"평균 test score : {cross_val['test_score'].mean()}\")"
   ]
  },
  {
   "cell_type": "markdown",
   "id": "ba922842",
   "metadata": {},
   "source": [
    "#### SVC bagging with WINE"
   ]
  },
  {
   "cell_type": "code",
   "execution_count": 17,
   "id": "39b9c10b",
   "metadata": {},
   "outputs": [
    {
     "name": "stdout",
     "output_type": "stream",
     "text": [
      "SB_model\n",
      "평균 fit time : 0.0024710178375244142\n",
      "평균 score time : 0.001197052001953125\n",
      "평균 test score : 0.9833333333333334\n"
     ]
    }
   ],
   "source": [
    "cross_val = cross_validate(\n",
    "    estimator=SB_model,\n",
    "    X=wine.data, y=wine.target,\n",
    "    cv=5\n",
    ")\n",
    "\n",
    "\n",
    "print(\"SB_model\")\n",
    "print(f\"평균 fit time : {cross_val['fit_time'].mean()}\")\n",
    "print(f\"평균 score time : {cross_val['score_time'].mean()}\")\n",
    "print(f\"평균 test score : {cross_val['test_score'].mean()}\")"
   ]
  },
  {
   "cell_type": "code",
   "execution_count": 18,
   "id": "cb22cff4",
   "metadata": {},
   "outputs": [
    {
     "name": "stdout",
     "output_type": "stream",
     "text": [
      "Sbagging_model\n",
      "평균 fit time : 0.02301158905029297\n",
      "평균 score time : 0.0008749485015869141\n",
      "평균 test score : 0.9833333333333334\n"
     ]
    }
   ],
   "source": [
    "cross_val = cross_validate(\n",
    "    estimator=Sbagging_model,\n",
    "    X=wine.data, y=wine.target,\n",
    "    cv=5\n",
    ")\n",
    "\n",
    "print(\"Sbagging_model\")\n",
    "print(f\"평균 fit time : {cross_val['fit_time'].mean()}\")\n",
    "print(f\"평균 score time : {cross_val['score_time'].mean()}\")\n",
    "print(f\"평균 test score : {cross_val['test_score'].mean()}\")"
   ]
  },
  {
   "cell_type": "markdown",
   "id": "da8ef0b2",
   "metadata": {},
   "source": [
    "#### SVC Bagging with Breast_Cancer"
   ]
  },
  {
   "cell_type": "code",
   "execution_count": 19,
   "id": "fed518f7",
   "metadata": {},
   "outputs": [
    {
     "name": "stdout",
     "output_type": "stream",
     "text": [
      "SB_model\n",
      "평균 fit time : 0.002946901321411133\n",
      "평균 score time : 0.0020462512969970704\n",
      "평균 test score : 0.9736376339077782\n"
     ]
    }
   ],
   "source": [
    "cross_val = cross_validate(\n",
    "    estimator=SB_model,\n",
    "    X=cancer.data, y=cancer.target,\n",
    "    cv=5\n",
    ")\n",
    "\n",
    "print(\"SB_model\")\n",
    "print(f\"평균 fit time : {cross_val['fit_time'].mean()}\")\n",
    "print(f\"평균 score time : {cross_val['score_time'].mean()}\")\n",
    "print(f\"평균 test score : {cross_val['test_score'].mean()}\")"
   ]
  },
  {
   "cell_type": "code",
   "execution_count": 20,
   "id": "c1deb1b1",
   "metadata": {},
   "outputs": [
    {
     "name": "stdout",
     "output_type": "stream",
     "text": [
      "Sbagging_model\n",
      "평균 fit time : 0.02575340270996094\n",
      "평균 score time : 0.010900068283081054\n",
      "평균 test score : 0.9736221083682658\n"
     ]
    }
   ],
   "source": [
    "cross_val = cross_validate(\n",
    "    estimator=Sbagging_model,\n",
    "    X=cancer.data, y=cancer.target,\n",
    "    cv=5\n",
    ")\n",
    "\n",
    "print(\"Sbagging_model\")\n",
    "print(f\"평균 fit time : {cross_val['fit_time'].mean()}\")\n",
    "print(f\"평균 score time : {cross_val['score_time'].mean()}\")\n",
    "print(f\"평균 test score : {cross_val['test_score'].mean()}\")"
   ]
  },
  {
   "cell_type": "markdown",
   "id": "f784b172",
   "metadata": {},
   "source": [
    "#### Comparison with Decision Tree Bagging"
   ]
  },
  {
   "cell_type": "code",
   "execution_count": 21,
   "id": "6557d267",
   "metadata": {},
   "outputs": [],
   "source": [
    "DB_model = make_pipeline(\n",
    "    StandardScaler(),\n",
    "    DecisionTreeClassifier()\n",
    ")\n",
    "\n",
    "Dbagging_model = BaggingClassifier(DB_model, n_estimators=10, max_samples=1.0, max_features=1.0)"
   ]
  },
  {
   "cell_type": "markdown",
   "id": "8b463cc6",
   "metadata": {},
   "source": [
    "#### Decision Tree Bagging with IRIS"
   ]
  },
  {
   "cell_type": "code",
   "execution_count": 23,
   "id": "3d455c36",
   "metadata": {},
   "outputs": [
    {
     "name": "stdout",
     "output_type": "stream",
     "text": [
      "평균 fit time : 0.0013933658599853515\n",
      "평균 score time : 0.0012427330017089843\n",
      "평균 test score : 0.9600000000000002\n"
     ]
    }
   ],
   "source": [
    "cross_val = cross_validate(\n",
    "    estimator=DB_model,\n",
    "    X=iris.data, y=iris.target,\n",
    "    cv=5\n",
    ")\n",
    "\n",
    "print(f\"평균 fit time : {cross_val['fit_time'].mean()}\")\n",
    "print(f\"평균 score time : {cross_val['score_time'].mean()}\")\n",
    "print(f\"평균 test score : {cross_val['test_score'].mean()}\")"
   ]
  },
  {
   "cell_type": "code",
   "execution_count": 24,
   "id": "95d8c110",
   "metadata": {},
   "outputs": [
    {
     "name": "stdout",
     "output_type": "stream",
     "text": [
      "평균 fit time : 0.016581630706787108\n",
      "평균 score time : 0.0002377033233642578\n",
      "평균 test score : 0.9400000000000001\n"
     ]
    }
   ],
   "source": [
    "cross_val = cross_validate(\n",
    "    estimator=Dbagging_model,\n",
    "    X=iris.data, y=iris.target,\n",
    "    cv=5\n",
    ")\n",
    "\n",
    "print(f\"평균 fit time : {cross_val['fit_time'].mean()}\")\n",
    "print(f\"평균 score time : {cross_val['score_time'].mean()}\")\n",
    "print(f\"평균 test score : {cross_val['test_score'].mean()}\")"
   ]
  },
  {
   "cell_type": "markdown",
   "id": "5e47a175",
   "metadata": {},
   "source": [
    "#### Decision Tree Bagging with WINE"
   ]
  },
  {
   "cell_type": "code",
   "execution_count": 25,
   "id": "2eb7e706",
   "metadata": {},
   "outputs": [
    {
     "name": "stdout",
     "output_type": "stream",
     "text": [
      "평균 fit time : 0.0018618106842041016\n",
      "평균 score time : 0.0012020587921142579\n",
      "평균 test score : 0.8987301587301587\n"
     ]
    }
   ],
   "source": [
    "cross_val = cross_validate(\n",
    "    estimator=DB_model,\n",
    "    X=wine.data, y=wine.target,\n",
    "    cv=5\n",
    ")\n",
    "\n",
    "print(f\"평균 fit time : {cross_val['fit_time'].mean()}\")\n",
    "print(f\"평균 score time : {cross_val['score_time'].mean()}\")\n",
    "print(f\"평균 test score : {cross_val['test_score'].mean()}\")"
   ]
  },
  {
   "cell_type": "code",
   "execution_count": 26,
   "id": "f17dfa45",
   "metadata": {},
   "outputs": [
    {
     "name": "stdout",
     "output_type": "stream",
     "text": [
      "평균 fit time : 0.020525455474853516\n",
      "평균 score time : 0.0005774021148681641\n",
      "평균 test score : 0.9496825396825397\n"
     ]
    }
   ],
   "source": [
    "cross_val = cross_validate(\n",
    "    estimator=Dbagging_model,\n",
    "    X=wine.data, y=wine.target,\n",
    "    cv=5\n",
    ")\n",
    "\n",
    "print(f\"평균 fit time : {cross_val['fit_time'].mean()}\")\n",
    "print(f\"평균 score time : {cross_val['score_time'].mean()}\")\n",
    "print(f\"평균 test score : {cross_val['test_score'].mean()}\")"
   ]
  },
  {
   "cell_type": "markdown",
   "id": "f68cb515",
   "metadata": {},
   "source": [
    "#### Decision Tree Bagging with Breast_Cancer"
   ]
  },
  {
   "cell_type": "code",
   "execution_count": 27,
   "id": "f31f4f45",
   "metadata": {},
   "outputs": [
    {
     "name": "stdout",
     "output_type": "stream",
     "text": [
      "평균 fit time : 0.009351491928100586\n",
      "평균 score time : 0.0005723953247070313\n",
      "평균 test score : 0.9208818506443098\n"
     ]
    }
   ],
   "source": [
    "cross_val = cross_validate(\n",
    "    estimator=DB_model,\n",
    "    X=cancer.data, y=cancer.target,\n",
    "    cv=5\n",
    ")\n",
    "\n",
    "print(f\"평균 fit time : {cross_val['fit_time'].mean()}\")\n",
    "print(f\"평균 score time : {cross_val['score_time'].mean()}\")\n",
    "print(f\"평균 test score : {cross_val['test_score'].mean()}\")"
   ]
  },
  {
   "cell_type": "code",
   "execution_count": 28,
   "id": "d932e6dd",
   "metadata": {},
   "outputs": [
    {
     "name": "stdout",
     "output_type": "stream",
     "text": [
      "평균 fit time : 0.04588375091552734\n",
      "평균 score time : 0.007817745208740234\n",
      "평균 test score : 0.9525694767893185\n"
     ]
    }
   ],
   "source": [
    "cross_val = cross_validate(\n",
    "    estimator=Dbagging_model,\n",
    "    X=cancer.data, y=cancer.target,\n",
    "    cv=5\n",
    ")\n",
    "\n",
    "print(f\"평균 fit time : {cross_val['fit_time'].mean()}\")\n",
    "print(f\"평균 score time : {cross_val['score_time'].mean()}\")\n",
    "print(f\"평균 test score : {cross_val['test_score'].mean()}\")"
   ]
  },
  {
   "cell_type": "code",
   "execution_count": null,
   "id": "4ff06741",
   "metadata": {},
   "outputs": [],
   "source": [
    "#### 캘리포니아 데이터는 시간 오래걸리니까 남으면"
   ]
  },
  {
   "cell_type": "markdown",
   "id": "69513c86",
   "metadata": {},
   "source": [
    "#### Regression Bagging"
   ]
  },
  {
   "cell_type": "code",
   "execution_count": 29,
   "id": "6db228d5",
   "metadata": {},
   "outputs": [],
   "source": [
    "from sklearn.datasets import fetch_california_housing\n",
    "\n",
    "housing = fetch_california_housing()\n",
    "diabetes = load_diabetes()"
   ]
  },
  {
   "cell_type": "markdown",
   "id": "5761b4e9",
   "metadata": {},
   "source": [
    "#### KNN Regression Bagging with California"
   ]
  },
  {
   "cell_type": "code",
   "execution_count": 30,
   "id": "020dd3fa",
   "metadata": {},
   "outputs": [],
   "source": [
    "RB_model = make_pipeline(\n",
    "    StandardScaler(),\n",
    "    KNeighborsRegressor()\n",
    ")\n",
    "\n",
    "Rbagging_model = BaggingRegressor(RB_model, n_estimators=10, max_samples=0.5, max_features=0.5)"
   ]
  },
  {
   "cell_type": "code",
   "execution_count": 31,
   "id": "88947ed8",
   "metadata": {},
   "outputs": [
    {
     "name": "stdout",
     "output_type": "stream",
     "text": [
      "평균 fit time : 0.01843400001525879\n",
      "평균 score time : 0.15346097946166992\n",
      "평균 test score : 0.5211863022484255\n"
     ]
    }
   ],
   "source": [
    "cross_val = cross_validate(\n",
    "    estimator=RB_model,\n",
    "    X=housing.data, y=housing.target,\n",
    "    cv=5\n",
    ")\n",
    "\n",
    "print(f\"평균 fit time : {cross_val['fit_time'].mean()}\")\n",
    "print(f\"평균 score time : {cross_val['score_time'].mean()}\")\n",
    "print(f\"평균 test score : {cross_val['test_score'].mean()}\")"
   ]
  },
  {
   "cell_type": "code",
   "execution_count": 32,
   "id": "9738037b",
   "metadata": {},
   "outputs": [
    {
     "name": "stdout",
     "output_type": "stream",
     "text": [
      "평균 fit time : 0.06612548828125\n",
      "평균 score time : 0.1938253879547119\n",
      "평균 test score : 0.4786457694823514\n"
     ]
    }
   ],
   "source": [
    "cross_val = cross_validate(\n",
    "    estimator=Rbagging_model,\n",
    "    X=housing.data, y=housing.target,\n",
    "    cv=5\n",
    ")\n",
    "\n",
    "print(f\"평균 fit time : {cross_val['fit_time'].mean()}\")\n",
    "print(f\"평균 score time : {cross_val['score_time'].mean()}\")\n",
    "print(f\"평균 test score : {cross_val['test_score'].mean()}\")"
   ]
  },
  {
   "cell_type": "markdown",
   "id": "a47eacee",
   "metadata": {},
   "source": [
    "#### diabetes"
   ]
  },
  {
   "cell_type": "code",
   "execution_count": 34,
   "id": "ac346eea",
   "metadata": {},
   "outputs": [
    {
     "name": "stdout",
     "output_type": "stream",
     "text": [
      "평균 fit time : 0.0017603397369384765\n",
      "평균 score time : 0.0015401363372802735\n",
      "평균 test score : 0.3689720650295623\n"
     ]
    }
   ],
   "source": [
    "cross_val = cross_validate(\n",
    "    estimator=RB_model,\n",
    "    X=diabetes.data, y=diabetes.target,\n",
    "    cv=5\n",
    ")\n",
    "\n",
    "print(f\"평균 fit time : {cross_val['fit_time'].mean()}\")\n",
    "print(f\"평균 score time : {cross_val['score_time'].mean()}\")\n",
    "print(f\"평균 test score : {cross_val['test_score'].mean()}\")"
   ]
  },
  {
   "cell_type": "code",
   "execution_count": 35,
   "id": "c765eb3d",
   "metadata": {},
   "outputs": [
    {
     "name": "stdout",
     "output_type": "stream",
     "text": [
      "평균 fit time : 0.009599447250366211\n",
      "평균 score time : 0.010251760482788086\n",
      "평균 test score : 0.37979838466485843\n"
     ]
    }
   ],
   "source": [
    "cross_val = cross_validate(\n",
    "    estimator=Rbagging_model,\n",
    "    X=diabetes.data, y=diabetes.target,\n",
    "    cv=5\n",
    ")\n",
    "\n",
    "print(f\"평균 fit time : {cross_val['fit_time'].mean()}\")\n",
    "print(f\"평균 score time : {cross_val['score_time'].mean()}\")\n",
    "print(f\"평균 test score : {cross_val['test_score'].mean()}\")"
   ]
  },
  {
   "cell_type": "markdown",
   "id": "f5f4911a",
   "metadata": {},
   "source": [
    "#### SVM Regression Bagging"
   ]
  },
  {
   "cell_type": "code",
   "execution_count": 36,
   "id": "9e5ba7fc",
   "metadata": {},
   "outputs": [],
   "source": [
    "SVRB_model = make_pipeline(\n",
    "    StandardScaler(),\n",
    "    SVR()\n",
    ")\n",
    "\n",
    "SVRbagging_model = BaggingRegressor(SVRB_model, n_estimators=10, max_samples=0.5, max_features=0.5)"
   ]
  },
  {
   "cell_type": "markdown",
   "id": "c8e2b6ab",
   "metadata": {},
   "source": [
    "#### SVM regressino Bagging with California house price"
   ]
  },
  {
   "cell_type": "code",
   "execution_count": 37,
   "id": "1cb4e827",
   "metadata": {},
   "outputs": [
    {
     "name": "stdout",
     "output_type": "stream",
     "text": [
      "평균 fit time : 4.293575954437256\n",
      "평균 score time : 2.166254425048828\n",
      "평균 test score : 0.6686837576949693\n"
     ]
    }
   ],
   "source": [
    "cross_val = cross_validate(\n",
    "    estimator=SVRB_model,\n",
    "    X=housing.data, y=housing.target,\n",
    "    cv=5\n",
    ")\n",
    "\n",
    "print(f\"평균 fit time : {cross_val['fit_time'].mean()}\")\n",
    "print(f\"평균 score time : {cross_val['score_time'].mean()}\")\n",
    "print(f\"평균 test score : {cross_val['test_score'].mean()}\")"
   ]
  },
  {
   "cell_type": "code",
   "execution_count": 38,
   "id": "d3eea229",
   "metadata": {},
   "outputs": [
    {
     "name": "stdout",
     "output_type": "stream",
     "text": [
      "평균 fit time : 11.137107133865356\n",
      "평균 score time : 11.754446935653686\n",
      "평균 test score : 0.47146352125965957\n"
     ]
    }
   ],
   "source": [
    "cross_val = cross_validate(\n",
    "    estimator=SVRbagging_model,\n",
    "    X=housing.data, y=housing.target,\n",
    "    cv=5\n",
    ")\n",
    "\n",
    "print(f\"평균 fit time : {cross_val['fit_time'].mean()}\")\n",
    "print(f\"평균 score time : {cross_val['score_time'].mean()}\")\n",
    "print(f\"평균 test score : {cross_val['test_score'].mean()}\")"
   ]
  },
  {
   "cell_type": "markdown",
   "id": "79bd7a19",
   "metadata": {},
   "source": [
    "#### SVM regressino Bagging with Diabetes"
   ]
  },
  {
   "cell_type": "code",
   "execution_count": 39,
   "id": "92db6d78",
   "metadata": {},
   "outputs": [
    {
     "name": "stdout",
     "output_type": "stream",
     "text": [
      "평균 fit time : 0.0031022071838378907\n",
      "평균 score time : 0.002146196365356445\n",
      "평균 test score : 0.14659868748701582\n"
     ]
    }
   ],
   "source": [
    "cross_val = cross_validate(\n",
    "    estimator=SVRB_model,\n",
    "    X=diabetes.data, y=diabetes.target,\n",
    "    cv=5\n",
    ")\n",
    "\n",
    "print(f\"평균 fit time : {cross_val['fit_time'].mean()}\")\n",
    "print(f\"평균 score time : {cross_val['score_time'].mean()}\")\n",
    "print(f\"평균 test score : {cross_val['test_score'].mean()}\")"
   ]
  },
  {
   "cell_type": "code",
   "execution_count": 40,
   "id": "de36a05e",
   "metadata": {},
   "outputs": [
    {
     "name": "stdout",
     "output_type": "stream",
     "text": [
      "평균 fit time : 0.01959705352783203\n",
      "평균 score time : 0.006229400634765625\n",
      "평균 test score : 0.04588375436561987\n"
     ]
    }
   ],
   "source": [
    "cross_val = cross_validate(\n",
    "    estimator=SVRbagging_model,\n",
    "    X=diabetes.data, y=diabetes.target,\n",
    "    cv=5\n",
    ")\n",
    "\n",
    "print(f\"평균 fit time : {cross_val['fit_time'].mean()}\")\n",
    "print(f\"평균 score time : {cross_val['score_time'].mean()}\")\n",
    "print(f\"평균 test score : {cross_val['test_score'].mean()}\")"
   ]
  },
  {
   "cell_type": "markdown",
   "id": "d745bebf",
   "metadata": {},
   "source": [
    "#### Random Forest"
   ]
  },
  {
   "cell_type": "code",
   "execution_count": 41,
   "id": "deccaf9e",
   "metadata": {},
   "outputs": [],
   "source": [
    "from sklearn.ensemble import RandomForestClassifier, ExtraTreesClassifier\n",
    "from sklearn.ensemble import RandomForestRegressor, ExtraTreesRegressor"
   ]
  },
  {
   "cell_type": "code",
   "execution_count": 42,
   "id": "bd5fd78c",
   "metadata": {},
   "outputs": [],
   "source": [
    "RF_model = make_pipeline(\n",
    "    StandardScaler(),\n",
    "    RandomForestClassifier()\n",
    ")"
   ]
  },
  {
   "cell_type": "code",
   "execution_count": 43,
   "id": "d0d33ec4",
   "metadata": {},
   "outputs": [
    {
     "name": "stdout",
     "output_type": "stream",
     "text": [
      "평균 fit time : 0.06251811981201172\n",
      "평균 score time : 0.010295867919921875\n",
      "평균 test score : 0.9666666666666668\n"
     ]
    }
   ],
   "source": [
    "cross_val = cross_validate(\n",
    "    estimator=RF_model,\n",
    "    X=iris.data, y=iris.target,\n",
    "    cv=5\n",
    ")\n",
    "\n",
    "print(f\"평균 fit time : {cross_val['fit_time'].mean()}\")\n",
    "print(f\"평균 score time : {cross_val['score_time'].mean()}\")\n",
    "print(f\"평균 test score : {cross_val['test_score'].mean()}\")"
   ]
  },
  {
   "cell_type": "code",
   "execution_count": 44,
   "id": "d2ad8c97",
   "metadata": {},
   "outputs": [
    {
     "name": "stdout",
     "output_type": "stream",
     "text": [
      "평균 fit time : 0.073870849609375\n",
      "평균 score time : 0.003404855728149414\n",
      "평균 test score : 0.9665079365079364\n"
     ]
    }
   ],
   "source": [
    "cross_val = cross_validate(\n",
    "    estimator=RF_model,\n",
    "    X=wine.data, y=wine.target,\n",
    "    cv=5\n",
    ")\n",
    "\n",
    "print(f\"평균 fit time : {cross_val['fit_time'].mean()}\")\n",
    "print(f\"평균 score time : {cross_val['score_time'].mean()}\")\n",
    "print(f\"평균 test score : {cross_val['test_score'].mean()}\")"
   ]
  },
  {
   "cell_type": "code",
   "execution_count": 45,
   "id": "c4c5287b",
   "metadata": {},
   "outputs": [
    {
     "name": "stdout",
     "output_type": "stream",
     "text": [
      "평균 fit time : 0.12566785812377929\n",
      "평균 score time : 0.0011131763458251953\n",
      "평균 test score : 0.956078248719143\n"
     ]
    }
   ],
   "source": [
    "cross_val = cross_validate(\n",
    "    estimator=RF_model,\n",
    "    X=cancer.data, y=cancer.target,\n",
    "    cv=5\n",
    ")\n",
    "\n",
    "print(f\"평균 fit time : {cross_val['fit_time'].mean()}\")\n",
    "print(f\"평균 score time : {cross_val['score_time'].mean()}\")\n",
    "print(f\"평균 test score : {cross_val['test_score'].mean()}\")"
   ]
  },
  {
   "cell_type": "markdown",
   "id": "df74e1f8",
   "metadata": {},
   "source": [
    "#### Random Forest Regression"
   ]
  },
  {
   "cell_type": "code",
   "execution_count": 46,
   "id": "06d2b185",
   "metadata": {},
   "outputs": [],
   "source": [
    "RFR_model = make_pipeline(\n",
    "    StandardScaler(),\n",
    "    RandomForestRegressor()\n",
    ")"
   ]
  },
  {
   "cell_type": "code",
   "execution_count": 47,
   "id": "823edf67",
   "metadata": {},
   "outputs": [
    {
     "name": "stdout",
     "output_type": "stream",
     "text": [
      "평균 fit time : 9.999165391921997\n",
      "평균 score time : 0.05374903678894043\n",
      "평균 test score : 0.6484190587681129\n"
     ]
    }
   ],
   "source": [
    "cross_val = cross_validate(\n",
    "    estimator=RFR_model,\n",
    "    X=housing.data, y=housing.target,\n",
    "    cv=5\n",
    ")\n",
    "\n",
    "print(f\"평균 fit time : {cross_val['fit_time'].mean()}\")\n",
    "print(f\"평균 score time : {cross_val['score_time'].mean()}\")\n",
    "print(f\"평균 test score : {cross_val['test_score'].mean()}\")"
   ]
  },
  {
   "cell_type": "code",
   "execution_count": 48,
   "id": "d8c5c029",
   "metadata": {},
   "outputs": [
    {
     "name": "stdout",
     "output_type": "stream",
     "text": [
      "평균 fit time : 0.16965742111206056\n",
      "평균 score time : 0.0033438682556152345\n",
      "평균 test score : 0.41761221857544195\n"
     ]
    }
   ],
   "source": [
    "cross_val = cross_validate(\n",
    "    estimator=RFR_model,\n",
    "    X=diabetes.data, y=diabetes.target,\n",
    "    cv=5\n",
    ")\n",
    "\n",
    "print(f\"평균 fit time : {cross_val['fit_time'].mean()}\")\n",
    "print(f\"평균 score time : {cross_val['score_time'].mean()}\")\n",
    "print(f\"평균 test score : {cross_val['test_score'].mean()}\")"
   ]
  },
  {
   "cell_type": "markdown",
   "id": "a064dfe6",
   "metadata": {},
   "source": [
    "#### Extra Tree Classifier(Extreamely Randomized Tree)"
   ]
  },
  {
   "cell_type": "code",
   "execution_count": 49,
   "id": "83219b74",
   "metadata": {},
   "outputs": [],
   "source": [
    "ETC_model = make_pipeline(\n",
    "    StandardScaler(),\n",
    "    ExtraTreesClassifier()\n",
    ")"
   ]
  },
  {
   "cell_type": "code",
   "execution_count": 50,
   "id": "63be22dd",
   "metadata": {},
   "outputs": [
    {
     "name": "stdout",
     "output_type": "stream",
     "text": [
      "평균 fit time : 0.053739070892333984\n",
      "평균 score time : 0.005111265182495117\n",
      "평균 test score : 0.9533333333333334\n"
     ]
    }
   ],
   "source": [
    "cross_val = cross_validate(\n",
    "    estimator=ETC_model,\n",
    "    X=iris.data, y=iris.target,\n",
    "    cv=5\n",
    ")\n",
    "\n",
    "print(f\"평균 fit time : {cross_val['fit_time'].mean()}\")\n",
    "print(f\"평균 score time : {cross_val['score_time'].mean()}\")\n",
    "print(f\"평균 test score : {cross_val['test_score'].mean()}\")"
   ]
  },
  {
   "cell_type": "code",
   "execution_count": 51,
   "id": "566a71b8",
   "metadata": {},
   "outputs": [
    {
     "name": "stdout",
     "output_type": "stream",
     "text": [
      "평균 fit time : 0.053258323669433595\n",
      "평균 score time : 0.0028647422790527345\n",
      "평균 test score : 0.972063492063492\n"
     ]
    }
   ],
   "source": [
    "cross_val = cross_validate(\n",
    "    estimator=ETC_model,\n",
    "    X=wine.data, y=wine.target,\n",
    "    cv=5\n",
    ")\n",
    "\n",
    "print(f\"평균 fit time : {cross_val['fit_time'].mean()}\")\n",
    "print(f\"평균 score time : {cross_val['score_time'].mean()}\")\n",
    "print(f\"평균 test score : {cross_val['test_score'].mean()}\")"
   ]
  },
  {
   "cell_type": "code",
   "execution_count": 52,
   "id": "8281e362",
   "metadata": {},
   "outputs": [
    {
     "name": "stdout",
     "output_type": "stream",
     "text": [
      "평균 fit time : 0.06360702514648438\n",
      "평균 score time : 0.007068538665771484\n",
      "평균 test score : 0.9666200900481291\n"
     ]
    }
   ],
   "source": [
    "cross_val = cross_validate(\n",
    "    estimator=ETC_model,\n",
    "    X=cancer.data, y=cancer.target,\n",
    "    cv=5\n",
    ")\n",
    "\n",
    "print(f\"평균 fit time : {cross_val['fit_time'].mean()}\")\n",
    "print(f\"평균 score time : {cross_val['score_time'].mean()}\")\n",
    "print(f\"평균 test score : {cross_val['test_score'].mean()}\")"
   ]
  },
  {
   "cell_type": "markdown",
   "id": "d9b2cbdd",
   "metadata": {},
   "source": [
    "#### Extra Tree Regressor"
   ]
  },
  {
   "cell_type": "code",
   "execution_count": 53,
   "id": "9e710ce6",
   "metadata": {},
   "outputs": [],
   "source": [
    "ETR_model = make_pipeline(\n",
    "    StandardScaler(),\n",
    "    ExtraTreesRegressor()\n",
    ")"
   ]
  },
  {
   "cell_type": "code",
   "execution_count": 54,
   "id": "b86ee179",
   "metadata": {},
   "outputs": [],
   "source": [
    "from sklearn.model_selection import cross_validate, train_test_split\n",
    "\n",
    "# 데이터 처리속도를 위해 학습데이터의 비율을 0.5지정\n",
    "X_train, X_test, y_train, y_test = train_test_split(housing.data, housing.target, train_size=0.5)"
   ]
  },
  {
   "cell_type": "code",
   "execution_count": 55,
   "id": "37ceec5a",
   "metadata": {},
   "outputs": [
    {
     "name": "stdout",
     "output_type": "stream",
     "text": [
      "평균 fit time : 3.0569358348846434\n",
      "평균 score time : 0.05836491584777832\n",
      "평균 test score : 0.6755411599563632\n"
     ]
    }
   ],
   "source": [
    "cross_val = cross_validate(\n",
    "    estimator=ETR_model,\n",
    "    X=housing.data, y=housing.target,\n",
    "    cv=5\n",
    ")\n",
    "\n",
    "print(f\"평균 fit time : {cross_val['fit_time'].mean()}\")\n",
    "print(f\"평균 score time : {cross_val['score_time'].mean()}\")\n",
    "print(f\"평균 test score : {cross_val['test_score'].mean()}\")"
   ]
  },
  {
   "cell_type": "code",
   "execution_count": 56,
   "id": "7a57b03b",
   "metadata": {},
   "outputs": [
    {
     "name": "stdout",
     "output_type": "stream",
     "text": [
      "평균 fit time : 0.10213246345520019\n",
      "평균 score time : 0.005986452102661133\n",
      "평균 test score : 0.430452745713616\n"
     ]
    }
   ],
   "source": [
    "cross_val = cross_validate(\n",
    "    estimator=ETR_model,\n",
    "    X=diabetes.data, y=diabetes.target,\n",
    "    cv=5\n",
    ")\n",
    "\n",
    "print(f\"평균 fit time : {cross_val['fit_time'].mean()}\")\n",
    "print(f\"평균 score time : {cross_val['score_time'].mean()}\")\n",
    "print(f\"평균 test score : {cross_val['test_score'].mean()}\")"
   ]
  },
  {
   "cell_type": "markdown",
   "id": "82c2ff47",
   "metadata": {},
   "source": [
    "#### ADA Boost Classifier"
   ]
  },
  {
   "cell_type": "code",
   "execution_count": 57,
   "id": "9dcc5d0d",
   "metadata": {},
   "outputs": [],
   "source": [
    "from sklearn.ensemble import AdaBoostClassifier\n",
    "from sklearn.ensemble import AdaBoostRegressor"
   ]
  },
  {
   "cell_type": "code",
   "execution_count": 58,
   "id": "3b072262",
   "metadata": {},
   "outputs": [],
   "source": [
    "ADA_model = make_pipeline(\n",
    "    StandardScaler(),\n",
    "    AdaBoostClassifier()\n",
    ")"
   ]
  },
  {
   "cell_type": "code",
   "execution_count": 59,
   "id": "e66e1597",
   "metadata": {},
   "outputs": [
    {
     "name": "stdout",
     "output_type": "stream",
     "text": [
      "평균 fit time : 0.04316344261169434\n",
      "평균 score time : 0.002000570297241211\n",
      "평균 test score : 0.9533333333333334\n"
     ]
    }
   ],
   "source": [
    "cross_val = cross_validate(\n",
    "    estimator=ADA_model,\n",
    "    X=iris.data, y=iris.target,\n",
    "    cv=5\n",
    ")\n",
    "\n",
    "print(f\"평균 fit time : {cross_val['fit_time'].mean()}\")\n",
    "print(f\"평균 score time : {cross_val['score_time'].mean()}\")\n",
    "print(f\"평균 test score : {cross_val['test_score'].mean()}\")"
   ]
  },
  {
   "cell_type": "code",
   "execution_count": 60,
   "id": "35b90027",
   "metadata": {},
   "outputs": [
    {
     "name": "stdout",
     "output_type": "stream",
     "text": [
      "평균 fit time : 0.053311824798583984\n",
      "평균 score time : 0.0024951934814453126\n",
      "평균 test score : 0.9333333333333332\n"
     ]
    }
   ],
   "source": [
    "cross_val = cross_validate(\n",
    "    estimator=ADA_model,\n",
    "    X=wine.data, y=wine.target,\n",
    "    cv=5\n",
    ")\n",
    "\n",
    "print(f\"평균 fit time : {cross_val['fit_time'].mean()}\")\n",
    "print(f\"평균 score time : {cross_val['score_time'].mean()}\")\n",
    "print(f\"평균 test score : {cross_val['test_score'].mean()}\")"
   ]
  },
  {
   "cell_type": "code",
   "execution_count": 61,
   "id": "207cb405",
   "metadata": {},
   "outputs": [
    {
     "name": "stdout",
     "output_type": "stream",
     "text": [
      "평균 fit time : 0.10466852188110351\n",
      "평균 score time : 0.0026703357696533205\n",
      "평균 test score : 0.9683744760130415\n"
     ]
    }
   ],
   "source": [
    "cross_val = cross_validate(\n",
    "    estimator=ADA_model,\n",
    "    X=cancer.data, y=cancer.target,\n",
    "    cv=5\n",
    ")\n",
    "\n",
    "print(f\"평균 fit time : {cross_val['fit_time'].mean()}\")\n",
    "print(f\"평균 score time : {cross_val['score_time'].mean()}\")\n",
    "print(f\"평균 test score : {cross_val['test_score'].mean()}\")"
   ]
  },
  {
   "cell_type": "code",
   "execution_count": 62,
   "id": "5f5819d3",
   "metadata": {},
   "outputs": [],
   "source": [
    "ADAR_model = make_pipeline(\n",
    "    StandardScaler(),\n",
    "    AdaBoostRegressor()\n",
    ")"
   ]
  },
  {
   "cell_type": "code",
   "execution_count": 63,
   "id": "7f1b434c",
   "metadata": {},
   "outputs": [
    {
     "name": "stdout",
     "output_type": "stream",
     "text": [
      "평균 fit time : 0.36344265937805176\n",
      "평균 score time : 0.007728385925292969\n",
      "평균 test score : 0.4461062070581871\n"
     ]
    }
   ],
   "source": [
    "cross_val = cross_validate(\n",
    "    estimator=ADAR_model,\n",
    "    X=X_train, y=y_train,\n",
    "    cv=5\n",
    ")\n",
    "\n",
    "print(f\"평균 fit time : {cross_val['fit_time'].mean()}\")\n",
    "print(f\"평균 score time : {cross_val['score_time'].mean()}\")\n",
    "print(f\"평균 test score : {cross_val['test_score'].mean()}\")"
   ]
  },
  {
   "cell_type": "code",
   "execution_count": 64,
   "id": "c387c479",
   "metadata": {},
   "outputs": [
    {
     "name": "stdout",
     "output_type": "stream",
     "text": [
      "평균 fit time : 0.05445361137390137\n",
      "평균 score time : 0.0014202117919921875\n",
      "평균 test score : 0.42171664903641143\n"
     ]
    }
   ],
   "source": [
    "cross_val = cross_validate(\n",
    "    estimator=ADAR_model,\n",
    "    X=diabetes.data, y=diabetes.target,\n",
    "    cv=5\n",
    ")\n",
    "\n",
    "print(f\"평균 fit time : {cross_val['fit_time'].mean()}\")\n",
    "print(f\"평균 score time : {cross_val['score_time'].mean()}\")\n",
    "print(f\"평균 test score : {cross_val['test_score'].mean()}\")"
   ]
  },
  {
   "cell_type": "markdown",
   "id": "f22cf164",
   "metadata": {},
   "source": [
    "#### Gradient Tree Boosting Classifier"
   ]
  },
  {
   "cell_type": "code",
   "execution_count": 65,
   "id": "f9f918ab",
   "metadata": {},
   "outputs": [],
   "source": [
    "from sklearn.ensemble import GradientBoostingClassifier\n",
    "from sklearn.ensemble import GradientBoostingRegressor"
   ]
  },
  {
   "cell_type": "code",
   "execution_count": 66,
   "id": "5b950364",
   "metadata": {},
   "outputs": [],
   "source": [
    "GRAC_model = make_pipeline(\n",
    "    StandardScaler(),\n",
    "    GradientBoostingClassifier()\n",
    ")"
   ]
  },
  {
   "cell_type": "code",
   "execution_count": 67,
   "id": "f1552695",
   "metadata": {},
   "outputs": [
    {
     "name": "stdout",
     "output_type": "stream",
     "text": [
      "평균 fit time : 0.13029799461364747\n",
      "평균 score time : 0.003695964813232422\n",
      "평균 test score : 0.9666666666666668\n"
     ]
    }
   ],
   "source": [
    "cross_val = cross_validate(\n",
    "    estimator=GRAC_model,\n",
    "    X=iris.data, y=iris.target,\n",
    "    cv=5\n",
    ")\n",
    "\n",
    "print(f\"평균 fit time : {cross_val['fit_time'].mean()}\")\n",
    "print(f\"평균 score time : {cross_val['score_time'].mean()}\")\n",
    "print(f\"평균 test score : {cross_val['test_score'].mean()}\")"
   ]
  },
  {
   "cell_type": "code",
   "execution_count": 68,
   "id": "9fa08913",
   "metadata": {},
   "outputs": [
    {
     "name": "stdout",
     "output_type": "stream",
     "text": [
      "평균 fit time : 0.23796467781066893\n",
      "평균 score time : 0.0006236553192138672\n",
      "평균 test score : 0.9385714285714286\n"
     ]
    }
   ],
   "source": [
    "cross_val = cross_validate(\n",
    "    estimator=GRAC_model,\n",
    "    X=wine.data, y=wine.target,\n",
    "    cv=5\n",
    ")\n",
    "\n",
    "print(f\"평균 fit time : {cross_val['fit_time'].mean()}\")\n",
    "print(f\"평균 score time : {cross_val['score_time'].mean()}\")\n",
    "print(f\"평균 test score : {cross_val['test_score'].mean()}\")"
   ]
  },
  {
   "cell_type": "code",
   "execution_count": 69,
   "id": "caf6ff1d",
   "metadata": {},
   "outputs": [
    {
     "name": "stdout",
     "output_type": "stream",
     "text": [
      "평균 fit time : 0.3892977237701416\n",
      "평균 score time : 0.00046677589416503905\n",
      "평균 test score : 0.9631268436578171\n"
     ]
    }
   ],
   "source": [
    "cross_val = cross_validate(\n",
    "    estimator=GRAC_model,\n",
    "    X=cancer.data, y=cancer.target,\n",
    "    cv=5\n",
    ")\n",
    "\n",
    "print(f\"평균 fit time : {cross_val['fit_time'].mean()}\")\n",
    "print(f\"평균 score time : {cross_val['score_time'].mean()}\")\n",
    "print(f\"평균 test score : {cross_val['test_score'].mean()}\")"
   ]
  },
  {
   "cell_type": "markdown",
   "id": "3e4acb5d",
   "metadata": {},
   "source": [
    "#### Gradient Tree Boosting Rgerssor"
   ]
  },
  {
   "cell_type": "code",
   "execution_count": 70,
   "id": "fed81f57",
   "metadata": {},
   "outputs": [],
   "source": [
    "GRAR_model = make_pipeline(\n",
    "    StandardScaler(),\n",
    "    GradientBoostingRegressor()\n",
    ")"
   ]
  },
  {
   "cell_type": "code",
   "execution_count": 71,
   "id": "8a017de3",
   "metadata": {},
   "outputs": [
    {
     "name": "stdout",
     "output_type": "stream",
     "text": [
      "평균 fit time : 1.4720391750335693\n",
      "평균 score time : 0.003227043151855469\n",
      "평균 test score : 0.770982928064017\n"
     ]
    }
   ],
   "source": [
    "cross_val = cross_validate(\n",
    "    estimator=GRAR_model,\n",
    "    X=X_train, y=y_train,\n",
    "    cv=5\n",
    ")\n",
    "\n",
    "print(f\"평균 fit time : {cross_val['fit_time'].mean()}\")\n",
    "print(f\"평균 score time : {cross_val['score_time'].mean()}\")\n",
    "print(f\"평균 test score : {cross_val['test_score'].mean()}\")"
   ]
  },
  {
   "cell_type": "code",
   "execution_count": 72,
   "id": "fe15d888",
   "metadata": {},
   "outputs": [
    {
     "name": "stdout",
     "output_type": "stream",
     "text": [
      "평균 fit time : 0.07579250335693359\n",
      "평균 score time : 0.000344085693359375\n",
      "평균 test score : 0.40893250640854023\n"
     ]
    }
   ],
   "source": [
    "cross_val = cross_validate(\n",
    "    estimator=GRAR_model,\n",
    "    X=diabetes.data, y=diabetes.target,\n",
    "    cv=5\n",
    ")\n",
    "\n",
    "print(f\"평균 fit time : {cross_val['fit_time'].mean()}\")\n",
    "print(f\"평균 score time : {cross_val['score_time'].mean()}\")\n",
    "print(f\"평균 test score : {cross_val['test_score'].mean()}\")"
   ]
  },
  {
   "cell_type": "markdown",
   "id": "39c8671d",
   "metadata": {},
   "source": [
    "#### Voting Classifier -hard voting"
   ]
  },
  {
   "cell_type": "code",
   "execution_count": 73,
   "id": "4cc1910a",
   "metadata": {},
   "outputs": [],
   "source": [
    "from sklearn.svm import SVC\n",
    "from sklearn.tree import DecisionTreeClassifier\n",
    "from sklearn.neighbors import KNeighborsClassifier\n",
    "from sklearn.ensemble import RandomForestClassifier\n",
    "from sklearn.ensemble import VotingClassifier\n",
    "from sklearn.model_selection import cross_val_score"
   ]
  },
  {
   "cell_type": "code",
   "execution_count": 74,
   "id": "9d9fbf58",
   "metadata": {},
   "outputs": [],
   "source": [
    "model_s = SVC()\n",
    "model_d = DecisionTreeClassifier()\n",
    "model_r = RandomForestClassifier()\n",
    "voting_model = VotingClassifier(\n",
    "    estimators=[('svc', model_s), ('DecisionTree', model_d), ('forest', model_r)],\n",
    "    voting='hard'\n",
    ")"
   ]
  },
  {
   "cell_type": "code",
   "execution_count": 75,
   "id": "226c85b2",
   "metadata": {},
   "outputs": [
    {
     "name": "stdout",
     "output_type": "stream",
     "text": [
      "Accuracy : 0.97 [SVC]\n",
      "Accuracy : 0.96 [DecisionTreeClassifier]\n",
      "Accuracy : 0.97 [RandomForestClassifier]\n",
      "Accuracy : 0.97 [VotingClassifier]\n"
     ]
    }
   ],
   "source": [
    "for model in (model_s, model_d, model_r, voting_model):\n",
    "    model_name = str(type(model)).split('.')[-1][:-2]\n",
    "    scores = cross_val_score(model, iris.data, iris.target, cv=5)\n",
    "    print(f'Accuracy : {scores.mean():.2f} [{model_name}]')"
   ]
  },
  {
   "attachments": {
    "image.png": {
     "image/png": "[encoded data removed]"
    }
   },
   "cell_type": "markdown",
   "id": "68326d87",
   "metadata": {},
   "source": [
    "![image.png](attachment:image.png)"
   ]
  },
  {
   "cell_type": "markdown",
   "id": "ce22e4a9",
   "metadata": {},
   "source": [
    "#### Voting Classifier - soft voting"
   ]
  },
  {
   "cell_type": "code",
   "execution_count": 76,
   "id": "e044af72",
   "metadata": {},
   "outputs": [],
   "source": [
    "model_s = SVC(probability=True) # 가중치에의한 확률값 계산이 가능하도록 설정\n",
    "model_d = DecisionTreeClassifier()\n",
    "model_r = RandomForestClassifier()\n",
    "voting_model = VotingClassifier(\n",
    "    estimators=[('svc', model_s), ('DecisionTree', model_d), ('forest', model_r)],\n",
    "    voting='soft',\n",
    "    weights=[1,1,5] # 평균을 위한 모델별 가중치 부여\n",
    ")"
   ]
  },
  {
   "cell_type": "markdown",
   "id": "6069e278",
   "metadata": {},
   "source": [
    "#### 가중치는 리스트 형태로 제공되며, 리스트의 순서는 estimators에 정의된 모델들과 동일한 순서여야 'forest' 순서로 정의"
   ]
  },
  {
   "cell_type": "code",
   "execution_count": 77,
   "id": "4f98d24f",
   "metadata": {},
   "outputs": [
    {
     "name": "stdout",
     "output_type": "stream",
     "text": [
      "Accuracy : 0.97 [SVC]\n",
      "Accuracy : 0.96 [DecisionTreeClassifier]\n",
      "Accuracy : 0.97 [RandomForestClassifier]\n",
      "Accuracy : 0.97 [VotingClassifier]\n"
     ]
    }
   ],
   "source": [
    "for model in (model_s, model_d, model_r, voting_model):\n",
    "    model_name = str(type(model)).split('.')[-1][:-2]\n",
    "    scores = cross_val_score(model, iris.data, iris.target)\n",
    "    print(f'Accuracy : {scores.mean():.2f} [{model_name}]')"
   ]
  }
 ],
 "metadata": {
  "kernelspec": {
   "display_name": "ml",
   "language": "python",
   "name": "python3"
  },
  "language_info": {
   "codemirror_mode": {
    "name": "ipython",
    "version": 3
   },
   "file_extension": ".py",
   "mimetype": "text/x-python",
   "name": "python",
   "nbconvert_exporter": "python",
   "pygments_lexer": "ipython3",
   "version": "3.12.9"
  }
 },
 "nbformat": 4,
 "nbformat_minor": 5
}
