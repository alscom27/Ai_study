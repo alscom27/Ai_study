{
 "cells": [
  {
   "cell_type": "markdown",
   "id": "b2df6948",
   "metadata": {},
   "source": [
    "### 연습 문제..."
   ]
  },
  {
   "cell_type": "markdown",
   "id": "96815b87",
   "metadata": {},
   "source": [
    "초급 1 : iris 품종 예측\n",
    "목표 : iris 데이터셋을 이용해 꽃의 품종을 예측하는 분류 모델을 만들어라.\n",
    "조건 :\n",
    "- 데이터셋 로딩 후 train/test로 분리\n",
    "- 적절한 분류 모델 사용(자유롭게 선택)\n",
    "- 모델 정확도 출력\n",
    "- 예측값 vs 실제값을 비교"
   ]
  },
  {
   "cell_type": "code",
   "execution_count": null,
   "id": "98c4b91c",
   "metadata": {},
   "outputs": [],
   "source": []
  },
  {
   "cell_type": "markdown",
   "id": "f26d8d47",
   "metadata": {},
   "source": [
    "중급 1 : 타이타닉 생존 예측\n",
    "목표 : 타이타닉"
   ]
  }
 ],
 "metadata": {
  "kernelspec": {
   "display_name": "ml",
   "language": "python",
   "name": "python3"
  },
  "language_info": {
   "name": "python",
   "version": "3.12.9"
  }
 },
 "nbformat": 4,
 "nbformat_minor": 5
}
