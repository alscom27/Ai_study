{
 "cells": [
  {
   "cell_type": "code",
   "execution_count": 1,
   "id": "3a6f409b",
   "metadata": {},
   "outputs": [],
   "source": [
    "# 필수 라이브러리 임포트\n",
    "import numpy as np\n",
    "import pandas as pd\n",
    "from sklearn.linear_model import Lasso, Ridge, ElasticNet\n",
    "from sklearn.model_selection import GridSearchCV, train_test_split\n",
    "from sklearn.datasets import fetch_california_housing\n",
    "from sklearn.preprocessing import StandardScaler\n",
    "from sklearn.metrics import r2_score\n",
    "\n",
    "# 데이터 로드\n",
    "housing = fetch_california_housing()\n",
    "X, y = housing.data, housing.target\n",
    "\n",
    "# 데이터 스케일링\n",
    "scaler = StandardScaler()\n",
    "X_scaled = scaler.fit_transform(X)\n",
    "\n",
    "# 학습/테스트 데이터 분리\n",
    "X_train, X_test, y_train, y_test = train_test_split(X_scaled, y, test_size=0.2, random_state=42)\n"
   ]
  },
  {
   "cell_type": "code",
   "execution_count": 2,
   "id": "33b79a3a",
   "metadata": {},
   "outputs": [],
   "source": [
    "# 하이퍼파라미터 범위\n",
    "alpha_range = np.logspace(-3, 1, 50)\n",
    "\n",
    "# 파라미터 그리드 생성\n",
    "param_grid = {'alpha': alpha_range}\n",
    "\n",
    "# 모델 선언\n",
    "lasso = Lasso()\n",
    "ridge  = Ridge()\n",
    "elasticnet = ElasticNet()"
   ]
  },
  {
   "cell_type": "code",
   "execution_count": 6,
   "id": "0eb9847b",
   "metadata": {},
   "outputs": [
    {
     "name": "stdout",
     "output_type": "stream",
     "text": [
      "Lasso Best Alpha: 0.001\n",
      "Lasso Best R2: 0.6114960326349894\n"
     ]
    }
   ],
   "source": [
    "lasso_cv = GridSearchCV(lasso, param_grid, cv=5, scoring='r2', n_jobs=-1)\n",
    "lasso_cv.fit(X_train, y_train)\n",
    "print(f\"Lasso Best Alpha: {lasso_cv.best_params_['alpha']}\")\n",
    "print(f\"Lasso Best R2: {lasso_cv.best_score_}\")\n"
   ]
  },
  {
   "cell_type": "code",
   "execution_count": null,
   "id": "6362d29e",
   "metadata": {},
   "outputs": [],
   "source": []
  },
  {
   "cell_type": "code",
   "execution_count": 7,
   "id": "82df8efd",
   "metadata": {},
   "outputs": [
    {
     "name": "stdout",
     "output_type": "stream",
     "text": [
      "Ridge Best Alpha: 0.49417133613238334\n",
      "Ridge Best R2: 0.6114840258561682\n"
     ]
    }
   ],
   "source": [
    "ridge_cv = GridSearchCV(ridge, param_grid, cv=5, scoring='r2', n_jobs=-1)\n",
    "ridge_cv.fit(X_train, y_train)\n",
    "print(f\"Ridge Best Alpha: {ridge_cv.best_params_['alpha']}\")\n",
    "print(f\"Ridge Best R2: {ridge_cv.best_score_}\")\n"
   ]
  },
  {
   "cell_type": "code",
   "execution_count": 8,
   "id": "7077de95",
   "metadata": {},
   "outputs": [
    {
     "name": "stdout",
     "output_type": "stream",
     "text": [
      "ElasticNet Best Alpha: 0.001\n",
      "ElasticNet Best R2: 0.6114860265335377\n"
     ]
    }
   ],
   "source": [
    "elasticnet_cv = GridSearchCV(elasticnet, param_grid, cv=5, scoring='r2', n_jobs=-1)\n",
    "elasticnet_cv.fit(X_train, y_train)\n",
    "print(f\"ElasticNet Best Alpha: {elasticnet_cv.best_params_['alpha']}\")\n",
    "print(f\"ElasticNet Best R2: {elasticnet_cv.best_score_}\")\n"
   ]
  },
  {
   "cell_type": "code",
   "execution_count": 9,
   "id": "008252c7",
   "metadata": {},
   "outputs": [
    {
     "name": "stdout",
     "output_type": "stream",
     "text": [
      "Test R2 (Lasso): 0.5769212309657656\n",
      "Test R2 (Ridge): 0.575802965737464\n",
      "Test R2 (ElasticNet): 0.5765975290718771\n"
     ]
    }
   ],
   "source": [
    "# 최적 모델 적용\n",
    "best_lasso = Lasso(alpha=lasso_cv.best_params_['alpha']).fit(X_train, y_train)\n",
    "best_ridge = Ridge(alpha=ridge_cv.best_params_['alpha']).fit(X_train, y_train)\n",
    "best_elasticnet = ElasticNet(alpha=elasticnet_cv.best_params_['alpha']).fit(X_train, y_train)\n",
    "\n",
    "# 예측\n",
    "y_pred_lasso = best_lasso.predict(X_test)\n",
    "y_pred_ridge = best_ridge.predict(X_test)\n",
    "y_pred_elasticnet = best_elasticnet.predict(X_test)\n",
    "\n",
    "# R² 계산\n",
    "r2_lasso = r2_score(y_test, y_pred_lasso)\n",
    "r2_ridge = r2_score(y_test, y_pred_ridge)\n",
    "r2_elasticnet = r2_score(y_test, y_pred_elasticnet)\n",
    "\n",
    "print(f\"Test R2 (Lasso): {r2_lasso}\")\n",
    "print(f\"Test R2 (Ridge): {r2_ridge}\")\n",
    "print(f\"Test R2 (ElasticNet): {r2_elasticnet}\")\n"
   ]
  },
  {
   "cell_type": "markdown",
   "id": "d5cd1efc",
   "metadata": {},
   "source": [
    "하이퍼파라미터 범위\n",
    "np.logspace(-3, 1, 50) : 10의 -3승에서 1승까지의 로그 스케일로 50개의 값을 생성(로그스케일 사용하는 이유 = 규제 강도(alpha)가 지수적으로 변할 때 성능 변화를 효과적으로 탐색)\n",
    "\n",
    "param_grid : {'alpha' : alpha_range} = 그리드 서치에 사용하기 위한 하이퍼파라미터 후보\n",
    "\n",
    "순회하면서 최적의 하이퍼파라미터 찾기위해 이렇게함.\n",
    "\n",
    "GridSearchCV\n",
    "GridSearchCv(모델(ex.ridge), param_grid(alpha값), cv=5(:5-Fold 교차 검증 사용), scoring='r2'(:모델 성능 평가 기준을 R2 점수로 설정), n-jobs=-1(:모든 cpu 코어 사용하여 병렬 처리))\n",
    "\n",
    "ridge_cv.best_params_['alpha'] : 릿지 모델의 최적의 알파 값"
   ]
  },
  {
   "cell_type": "markdown",
   "id": "e70380ef",
   "metadata": {},
   "source": [
    "지금까지 흐름 정리\n",
    "\n",
    "선형/비선형 데이터 표현은 부정확.\n",
    "데이터가 선형/비선형 모델에 적합하다 표현이 맞음.\n",
    "\n",
    "보통의 json처럼 구조적 데이터의 경우 선형 모델이 대부분 적합함.\n",
    "이미지, 오디오, 영상같은 복잡하거나 다차원의 경우 비선형 모델이 적합함.\n",
    "\n",
    "선형/비선형 모델 적합성을 어떻게 판단?\n",
    "데이터를 보면 알 수 있는 경우:\n",
    "경험과 도메인 지식이 있을 때, 데이터의 특성이 명확할 때\n",
    "\n",
    "데이터를 직접 테스트해서 알아야 하는 경우:\n",
    "복잡한 데이터나 비정형 데이터일 때\n",
    "<!-- 데이터가 섞여 있을 때 -->\n",
    "\n",
    "여부를 확신할 수 없을 때\n",
    "여러 모델 사용해서 비교\n",
    "\n",
    "그리드서치가 중요한듯 랏소,릿지,엘라스틱넷같은 모델의 최적의 하이퍼파라미터를 찾을 수 있게해줌.\n",
    "\n",
    "최적 모델 선택 방법:\n",
    "모델 학습:\n",
    " 선형이든 비선형모델이든 테스트\n",
    "\n",
    "성능 비교:\n",
    " 각 모델의 r2점수와 오차(mse)를 비교\n",
    " 가장 성능이 좋은 모델을 최종 선택\n",
    "\n",
    "결론 도출:\n",
    " 선형 모델 성능이 우수하면 선형 모델이 적합\n",
    " 비면 비"
   ]
  }
 ],
 "metadata": {
  "kernelspec": {
   "display_name": "ml",
   "language": "python",
   "name": "python3"
  },
  "language_info": {
   "codemirror_mode": {
    "name": "ipython",
    "version": 3
   },
   "file_extension": ".py",
   "mimetype": "text/x-python",
   "name": "python",
   "nbconvert_exporter": "python",
   "pygments_lexer": "ipython3",
   "version": "3.12.9"
  }
 },
 "nbformat": 4,
 "nbformat_minor": 5
}
