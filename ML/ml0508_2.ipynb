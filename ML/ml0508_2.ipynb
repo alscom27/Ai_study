{
 "cells": [
  {
   "cell_type": "code",
   "execution_count": null,
   "id": "cdd286eb",
   "metadata": {},
   "outputs": [],
   "source": [
    "import pandas as pd\n",
    "import seaborn as sns\n",
    "import matplotlib.pyplot as plt"
   ]
  },
  {
   "cell_type": "code",
   "execution_count": null,
   "id": "3857f6b2",
   "metadata": {},
   "outputs": [],
   "source": [
    "# 데이터 생성\n",
    "data = {'Age': [25, 30, 24, 29, 40, 50, 35], 'Salary': [50000, 54000, 58000, 62000, 70000,\n",
    "80000, 65000]}\n",
    "df = pd.DataFrame(data)"
   ]
  },
  {
   "cell_type": "markdown",
   "id": "05448532",
   "metadata": {},
   "source": [
    "1. describe() 함수 (Pandas)\n",
    "개념\n",
    "describe() 함수는 데이터프레임의 기술 통계량을 계산하여 반환합니다.\n",
    "수치형 데이터를 대상으로 기본 통계 정보를 제공합니다.\n",
    "\n",
    "주요 통계 정보\n",
    "count: 데이터 개수\n",
    "\n",
    "mean: 평균\n",
    "\n",
    "std: 표준편차\n",
    "\n",
    "min: 최소값\n",
    "\n",
    "25%: 1사분위값 (Q1)\n",
    "\n",
    "50%: 중앙값 (Q2)\n",
    "\n",
    "75%: 3사분위값 (Q3)\n",
    "\n",
    "max: 최대값\n",
    "\n",
    "\n",
    "활용 목적\n",
    "데이터 요약: 전체 데이터의 기초 통계를 확인하여 데이터의 분포를 파악\n",
    "\n",
    "이상치 탐지: min과 max 값을 통해 값의 범위 확인\n",
    "\n",
    "중앙 경향성: 평균과 중앙값을 통해 데이터의 중심 확인"
   ]
  },
  {
   "cell_type": "code",
   "execution_count": null,
   "id": "0aa6d866",
   "metadata": {},
   "outputs": [],
   "source": [
    "# 기술통계량\n",
    "print(\"기술통계량:\\n\", df.describe())\n",
    "# 결과 해석:\n",
    "# count: 총 데이터 수 (7개)\n",
    "# mean: 평균 값 (Age: 33.29, Salary: 62714.29)\n",
    "# std: 표준편차 (Age: 9.28, Salary: 10949.87)\n",
    "# min: 최소값 (Age: 24, Salary: 50000)\n",
    "# 25%, 50%, 75%: 각 사분위 수를 나타냄 (중앙값은 50%)\n",
    "# max: 최대값 (Age: 50, Salary: 80000)\n",
    "# 데이터 분포가 고르게 퍼져 있으며, 평균과 중앙값이 크게 차이 나지 않아 큰 왜곡이 없는 데이터임\n"
   ]
  },
  {
   "cell_type": "markdown",
   "id": "2f4acbcb",
   "metadata": {},
   "source": [
    "2. sns (Seaborn)\n",
    "개념\n",
    "Seaborn은 Python의 시각화 라이브러리로, Matplotlib를 기반으로 더 편리하고 직관적인 시각화를 제공합니다.\n",
    "데이터프레임과 잘 호환되어 데이터 분석과 시각화에 많이 사용됩니다.\n",
    "\n",
    "주요 특징\n",
    "고급 그래프 제공: 히트맵, 박스플롯, 산점도 등 다양한 시각화\n",
    "\n",
    "통계적 시각화: 데이터의 분포와 관계를 쉽게 시각화\n",
    "\n",
    "미관 개선: 기본 Matplotlib보다 디자인이 세련됨\n",
    "\n",
    "\n",
    "활용 목적\n",
    "데이터 분포 파악: 히스토그램, 커널 밀도 추정(KDE)\n",
    "\n",
    "변수 간 관계 분석: 산점도, 페어플롯\n",
    "\n",
    "상관 행렬 시각화: 히트맵\n",
    "\n",
    "고급 시각화: 박스플롯, 바이올린 플롯 등"
   ]
  },
  {
   "cell_type": "code",
   "execution_count": null,
   "id": "6f4d6209",
   "metadata": {},
   "outputs": [],
   "source": [
    "# 히스토그램\n",
    "sns.histplot(df['Age'])\n",
    "plt.title('Age Distribution')\n",
    "plt.show()\n",
    "# 결과 해석:\n",
    "# 히스토그램을 통해 Age의 분포를 시각화함\n",
    "# 20대 중후반(25~30세)와 40대, 50대에 데이터가 집중되어 있음\n",
    "# 상대적으로 30대 데이터가 적음 (35세 한 건)"
   ]
  },
  {
   "cell_type": "code",
   "execution_count": null,
   "id": "6713f1a2",
   "metadata": {},
   "outputs": [],
   "source": [
    "# 박스플롯\n",
    "sns.boxplot(x=df['Age'])\n",
    "plt.title('Age Box Plot')\n",
    "plt.show()\n",
    "# 결과 해석:\n",
    "# 박스플롯으로 Age의 분포와 이상치를 확인함\n",
    "# 중앙값(30세)이 박스의 중앙에 위치하여 대체로 대칭적인 분포를 가짐\n",
    "# 이상치 없음: 모든 값이 사분위 범위 내에 존재"
   ]
  },
  {
   "cell_type": "code",
   "execution_count": null,
   "id": "9e478625",
   "metadata": {},
   "outputs": [],
   "source": [
    "# 산점도\n",
    "sns.scatterplot(x='Age', y='Salary', data=df)\n",
    "plt.title('Age vs Salary Scatter Plot')\n",
    "plt.show()\n",
    "# 결과 해석:\n",
    "# Age와 Salary 간의 관계를 산점도로 표현함\n",
    "# 산점도에서 오른쪽 위로 상승하는 경향을 보여 양의 상관관계가 있음\n",
    "# 나이가 많을수록 급여가 높아지는 경향이 있음 (연령 증가에 따라 급여 증가)"
   ]
  },
  {
   "cell_type": "markdown",
   "id": "347d36be",
   "metadata": {},
   "source": [
    "3. corr() 함수 (Pandas)\n",
    "개념\n",
    "corr() 함수는 데이터프레임의 수치형 열들 간 상관계수를 계산하여 행렬 형태로 반환합니다.\n",
    "상관계수는 두 변수 간 선형 관계를 나타내며, -1에서 1 사이의 값을 가집니다.\n",
    "\n",
    "상관계수 해석\n",
    "1: 완전 양의 상관관계\n",
    "\n",
    "0: 상관관계 없음\n",
    "\n",
    "-1: 완전 음의 상관관계\n",
    "\n",
    "\n",
    "활용 목적\n",
    "변수 간 관계 분석: 두 변수의 양/음의 상관관계 파악\n",
    "\n",
    "예측 변수 선정: 상관계수가 큰 변수를 모델에 사용\n",
    "\n",
    "다중 공선성 탐지: 상관계수가 0.9 이상인 변수 조합은 다중 공선성 문제 발생 가능\n",
    "\n"
   ]
  },
  {
   "cell_type": "markdown",
   "id": "d7a539fa",
   "metadata": {},
   "source": [
    "4. annot (Seaborn Heatmap)\n",
    "개념\n",
    "Seaborn에서 heatmap() 함수의 annot 매개변수는 각 셀에 데이터 값을 표시하도록 설정합니다.\n",
    "기본적으로는 False로 되어 있어 값이 표시되지 않습니다.\n",
    "\n",
    "출력 설명\n",
    "각 셀에 상관계수 값이 직접 표시되어 직관적으로 이해할 수 있습니다.\n",
    "\n",
    "True로 설정하면 셀에 숫자 값이 표시됩니다.\n",
    "\n",
    "annot=True와 함께 소수점 자릿수 설정이 가능합니다.\n",
    "\n",
    "활용 목적\n",
    "상관 분석: 변수 간의 상관계수를 시각적으로 쉽게 파악\n",
    "\n",
    "값 확인: 색상과 함께 상관계수 값을 확인하여 해석 용이성 증가"
   ]
  },
  {
   "cell_type": "markdown",
   "id": "5f735235",
   "metadata": {},
   "source": [
    "5. heatmap (Seaborn)\n",
    "개념\n",
    "heatmap() 함수는 행렬 형태의 데이터를 색상으로 표현하여 직관적으로 비교할 수 있는 시각화 방법입니다.\n",
    "주로 상관 행렬 시각화에 많이 사용됩니다.\n",
    "\n",
    "주요 매개변수\n",
    "data: 상관 행렬 또는 2차원 배열\n",
    "\n",
    "annot: 각 셀에 값을 표시할지 여부 (True/False)\n",
    "\n",
    "cmap: 색상 팔레트 (coolwarm, viridis 등)\n",
    "\n",
    "fmt: 숫자 형식 지정 (소수점 자리수)\n",
    "\n",
    "활용 목적\n",
    "변수 간 관계 분석: 상관계수를 시각화하여 데이터 간의 상관성을 파악\n",
    "\n",
    "이상치 탐지: 색상 차이를 통해 상관도가 낮은 변수를 찾을 수 있음\n",
    "\n",
    "데이터 탐색: 많은 변수를 한눈에 확인할 수 있어 **탐색적 데이터 분석(EDA)**에 유용"
   ]
  },
  {
   "cell_type": "code",
   "execution_count": null,
   "id": "80dbb5c8",
   "metadata": {},
   "outputs": [],
   "source": [
    "# 상관 분석\n",
    "correlation = df.corr()\n",
    "print(\"상관계수:\\n\", correlation)\n",
    "sns.heatmap(correlation, annot=True, cmap='coolwarm')\n",
    "plt.title('Correlation Heatmap')\n",
    "plt.show()\n",
    "# 결과 해석:\n",
    "# Age와 Salary 간 상관계수: 0.93 (양의 상관관계)\n",
    "# 0.93이라는 높은 수치는 나이와 급여 사이에 강한 양의 선형 관계가 있음을 의미함\n",
    "# 나이가 증가할수록 급여도 증가하는 경향을 암시함\n",
    "# 상관계수가 +1에 가까울수록 두 변수 간의 선형 관계가 강함"
   ]
  },
  {
   "cell_type": "markdown",
   "id": "5dc121df",
   "metadata": {},
   "source": [
    "결론\n",
    "describe(): 데이터의 기초 통계량을 요약하여 제공하여 데이터 이해를 돕습니다.\n",
    "\n",
    "sns(Seaborn): 데이터를 시각적으로 표현하여 분포와 관계를 쉽게 파악합니다.\n",
    "\n",
    "corr(): 수치형 변수 간 상관관계를 계산하여 변수 간 선형 관계를 확인합니다.\n",
    "\n",
    "annot: 히트맵에서 각 셀의 값을 표시하여 직관적 해석을 돕습니다.\n",
    "\n",
    "heatmap(): 상관 행렬을 색상으로 표현하여 데이터 간 관계를 한눈에 파악할 수 있습니다."
   ]
  }
 ],
 "metadata": {
  "language_info": {
   "name": "python"
  }
 },
 "nbformat": 4,
 "nbformat_minor": 5
}
