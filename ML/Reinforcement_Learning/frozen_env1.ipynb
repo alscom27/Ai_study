{
 "cells": [
  {
   "cell_type": "markdown",
   "id": "f22bf9cb",
   "metadata": {},
   "source": [
    "### Frozen lake in Gym"
   ]
  },
  {
   "cell_type": "code",
   "execution_count": 1,
   "id": "81127450",
   "metadata": {},
   "outputs": [],
   "source": [
    "import gymnasium as gym"
   ]
  },
  {
   "cell_type": "code",
   "execution_count": null,
   "id": "16f78e4e",
   "metadata": {},
   "outputs": [
    {
     "name": "stdout",
     "output_type": "stream",
     "text": [
      "초기 상태 : 0\n",
      "info 딕셔너리 : {'prob': 1}\n",
      "None\n"
     ]
    },
    {
     "name": "stderr",
     "output_type": "stream",
     "text": [
      "c:\\Users\\main\\miniconda3\\envs\\ml\\Lib\\site-packages\\gymnasium\\envs\\toy_text\\frozen_lake.py:334: UserWarning: \u001b[33mWARN: You are calling render method without specifying any render mode. You can specify the render_mode at initialization, e.g. gym.make(\"FrozenLake-v1\", render_mode=\"rgb_array\")\u001b[0m\n",
      "  gym.logger.warn(\n"
     ]
    }
   ],
   "source": [
    "env = gym.make(\"FrozenLake-v1\")\n",
    "state, info = env.reset()\n",
    "\n",
    "print(f\"초기 상태 : {state}\")\n",
    "print(f\"info 딕셔너리 : {info}\")"
   ]
  },
  {
   "cell_type": "code",
   "execution_count": 3,
   "id": "1e05c92d",
   "metadata": {},
   "outputs": [
    {
     "name": "stdout",
     "output_type": "stream",
     "text": [
      "\n",
      "\u001b[41mS\u001b[0mFFF\n",
      "FHFH\n",
      "FFFH\n",
      "HFFG\n",
      "\n"
     ]
    }
   ],
   "source": [
    "env = gym.make(\"FrozenLake-v1\", is_slippery=False, render_mode=\"ansi\")\n",
    "\n",
    "state, info = env.reset()\n",
    "\n",
    "print(env.render())"
   ]
  },
  {
   "cell_type": "code",
   "execution_count": 6,
   "id": "2a0aaec7",
   "metadata": {},
   "outputs": [
    {
     "name": "stdout",
     "output_type": "stream",
     "text": [
      "\n",
      "\u001b[41mS\u001b[0mFFF\n",
      "FHFH\n",
      "FFFH\n",
      "HFFG\n",
      "\n",
      "0\n",
      "next state : 4\n",
      "  (Down)\n",
      "SFFF\n",
      "\u001b[41mF\u001b[0mHFH\n",
      "FFFH\n",
      "HFFG\n",
      "\n",
      "1\n",
      "next state : 0\n",
      "  (Up)\n",
      "\u001b[41mS\u001b[0mFFF\n",
      "FHFH\n",
      "FFFH\n",
      "HFFG\n",
      "\n",
      "2\n",
      "next state : 4\n",
      "  (Down)\n",
      "SFFF\n",
      "\u001b[41mF\u001b[0mHFH\n",
      "FFFH\n",
      "HFFG\n",
      "\n",
      "3\n",
      "next state : 4\n",
      "  (Down)\n",
      "SFFF\n",
      "\u001b[41mF\u001b[0mHFH\n",
      "FFFH\n",
      "HFFG\n",
      "\n",
      "4\n",
      "next state : 4\n",
      "  (Down)\n",
      "SFFF\n",
      "\u001b[41mF\u001b[0mHFH\n",
      "FFFH\n",
      "HFFG\n",
      "\n",
      "5\n",
      "next state : 5\n",
      "Episode finished!\n"
     ]
    }
   ],
   "source": [
    "# 1. 환경 생성\n",
    "env = gym.make(\"FrozenLake-v1\", render_mode=\"ansi\") # 텍스트 기반 출력 모드 설정\n",
    "\n",
    "# 2. 환경 초기화\n",
    "state, info = env.reset()\n",
    "\n",
    "# 3. 에피소트 루프 실행\n",
    "for i in range(100):\n",
    "    print(env.render()) # 현재 상태 출력\n",
    "    print(i)\n",
    "    \n",
    "    action = env.action_space.sample() # 랜덤 액션 선택 (탐색 에이전트 대체)\n",
    "    \n",
    "    next_state, reward, terminated, truncated, info = env.step(action) # 한 스텝 전진\n",
    "    print(f\"next state : {next_state}\")\n",
    "    if terminated or truncated : # 종료 조건\n",
    "        print(\"Episode finished!\")\n",
    "        break\n",
    "    \n",
    "env.close()"
   ]
  },
  {
   "cell_type": "markdown",
   "id": "e117e42f",
   "metadata": {},
   "source": [
    "이번엔 에이젼트가 되어보기"
   ]
  },
  {
   "cell_type": "code",
   "execution_count": 13,
   "id": "53d90c9e",
   "metadata": {},
   "outputs": [
    {
     "name": "stdout",
     "output_type": "stream",
     "text": [
      "Use 'w', 'a', 's', 'd' keys to move the agent.\n",
      "Press 'q' to quit the game.\n",
      "\n",
      "Initial state :\n",
      "P F F F\n",
      "F H F H\n",
      "F F F H\n",
      "H F F G\n",
      "\n",
      "\n",
      "Action: DOWN, State: 4, Reward: 0.0, Info: {'prob': 1.0}\n",
      "Current state:\n",
      "S F F F\n",
      "P H F H\n",
      "F F F H\n",
      "H F F G\n",
      "\n",
      "\n",
      "Action: DOWN, State: 8, Reward: 0.0, Info: {'prob': 1.0}\n",
      "Current state:\n",
      "S F F F\n",
      "F H F H\n",
      "P F F H\n",
      "H F F G\n",
      "\n",
      "\n",
      "Action: RIGHT, State: 9, Reward: 0.0, Info: {'prob': 1.0}\n",
      "Current state:\n",
      "S F F F\n",
      "F H F H\n",
      "F P F H\n",
      "H F F G\n",
      "\n",
      "\n",
      "Action: RIGHT, State: 10, Reward: 0.0, Info: {'prob': 1.0}\n",
      "Current state:\n",
      "S F F F\n",
      "F H F H\n",
      "F F P H\n",
      "H F F G\n",
      "\n",
      "\n",
      "Action: DOWN, State: 14, Reward: 0.0, Info: {'prob': 1.0}\n",
      "Current state:\n",
      "S F F F\n",
      "F H F H\n",
      "F F F H\n",
      "H F P G\n",
      "\n",
      "\n",
      "Action: RIGHT, State: 15, Reward: 1.0, Info: {'prob': 1.0}\n",
      "Current state:\n",
      "S F F F\n",
      "F H F H\n",
      "F F F H\n",
      "H F F P\n",
      "\n",
      "Congratulations! You reached the goal!\n",
      "Game ended.\n"
     ]
    }
   ],
   "source": [
    "import gymnasium as gym\n",
    "\n",
    "# 환경 생성\n",
    "env = gym.make(\"FrozenLake-v1\", map_name=\"4x4\", is_slippery=False, render_mode=\"ansi\")\n",
    "\n",
    "# 초기화\n",
    "state, info = env.reset()\n",
    "\n",
    "# MACROS: 방향 정의\n",
    "LEFT = 0\n",
    "DOWN = 1\n",
    "RIGHT = 2\n",
    "UP = 3\n",
    "\n",
    "# 키보드 입력 매핑\n",
    "arrow_keys = {\n",
    "    'w' : UP,\n",
    "    's' : DOWN,\n",
    "    'd' : RIGHT,\n",
    "    'a' : LEFT\n",
    "}\n",
    "\n",
    "# 상태 출력 함수 (4x4 grid)\n",
    "def print_state(state):\n",
    "    state_desc = env.unwrapped.desc.tolist()\n",
    "    state_desc = [[c.decode('utf-8') for c in line] for line in state_desc]\n",
    "    row, col = divmod(state, 4)\n",
    "    state_desc[row][col] = 'P' # 현재 위치(플레이어)\n",
    "    \n",
    "    for line in state_desc:\n",
    "        print(\" \".join(line))\n",
    "    print()\n",
    "    \n",
    "print(\"Use 'w', 'a', 's', 'd' keys to move the agent.\")\n",
    "print(\"Press 'q' to quit the game.\\n\")\n",
    "\n",
    "print(\"Initial state :\")\n",
    "print_state(state)\n",
    "\n",
    "\n",
    "while True:\n",
    "    key = input(\"Enter action (w/a/s/d): \").strip().lower()\n",
    "    if key == 'q':\n",
    "        print(\"Game aborted.\")\n",
    "        break\n",
    "    \n",
    "    if key not in arrow_keys:\n",
    "        print(\"Invalid key. Use 'w', 'a', 's', 'd'.\")\n",
    "        continue\n",
    "    \n",
    "    action = arrow_keys[key]\n",
    "    next_state, reward, terminated, truncated, info = env.step(action)\n",
    "    \n",
    "    # 결과 출력\n",
    "    action_names = {UP:\"UP\", DOWN:\"DOWN\", LEFT:\"LEFT\", RIGHT:\"RIGHT\"}\n",
    "    print(f\"\\nAction: {action_names[action]}, State: {next_state}, Reward: {reward}, Info: {info}\")\n",
    "    \n",
    "    print(\"Current state:\")\n",
    "    print_state(next_state)\n",
    "    \n",
    "    state = next_state\n",
    "    \n",
    "    if terminated or truncated:\n",
    "        if reward == 1.0:\n",
    "            print(\"Congratulations! You reached the goal!\")\n",
    "        else:\n",
    "            print(\"Game over. You fell into a hole.\")\n",
    "        break\n",
    "    \n",
    "print(\"Game ended.\")"
   ]
  }
 ],
 "metadata": {
  "kernelspec": {
   "display_name": "ml",
   "language": "python",
   "name": "python3"
  },
  "language_info": {
   "codemirror_mode": {
    "name": "ipython",
    "version": 3
   },
   "file_extension": ".py",
   "mimetype": "text/x-python",
   "name": "python",
   "nbconvert_exporter": "python",
   "pygments_lexer": "ipython3",
   "version": "3.12.9"
  }
 },
 "nbformat": 4,
 "nbformat_minor": 5
}
