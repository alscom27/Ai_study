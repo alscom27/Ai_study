{
 "cells": [
  {
   "cell_type": "markdown",
   "id": "12bbe206",
   "metadata": {},
   "source": [
    "cart pole"
   ]
  },
  {
   "cell_type": "code",
   "execution_count": 2,
   "id": "06918c55",
   "metadata": {},
   "outputs": [
    {
     "name": "stdout",
     "output_type": "stream",
     "text": [
      "Episode 1: Total reward = 45.0\n",
      "Episode 2: Total reward = 11.0\n",
      "Episode 3: Total reward = 15.0\n",
      "Episode 4: Total reward = 15.0\n",
      "Episode 5: Total reward = 29.0\n"
     ]
    }
   ],
   "source": [
    "import gymnasium as gym\n",
    "import time\n",
    "\n",
    "# 환경 생성\n",
    "env = gym.make(\"CartPole-v1\", render_mode=\"human\")  # 'human'은 GUI 렌더링\n",
    "\n",
    "# 에피소드 수\n",
    "num_episodes = 5\n",
    "\n",
    "for episode in range(num_episodes):\n",
    "    state, _ = env.reset()\n",
    "    total_reward = 0\n",
    "    done = False\n",
    "    step = 0\n",
    "\n",
    "    while not done:\n",
    "        env.render()  # 화면 표시 (옵션)\n",
    "        action = env.action_space.sample()  # 무작위 행동 선택 (0 또는 1)\n",
    "        state, reward, terminated, truncated, info = env.step(action)\n",
    "        done = terminated or truncated\n",
    "        total_reward += reward\n",
    "        step += 1\n",
    "        time.sleep(0.02)  # 움직임이 너무 빠르지 않도록 슬립\n",
    "\n",
    "    print(f\"Episode {episode + 1}: Total reward = {total_reward}\")\n",
    "\n",
    "env.close()\n"
   ]
  },
  {
   "cell_type": "markdown",
   "id": "28918ccb",
   "metadata": {},
   "source": [
    "mountaincar"
   ]
  },
  {
   "cell_type": "code",
   "execution_count": 3,
   "id": "61bb313c",
   "metadata": {},
   "outputs": [
    {
     "name": "stdout",
     "output_type": "stream",
     "text": [
      "Episode 1 total reward: -200.0\n",
      "Episode 2 total reward: -200.0\n",
      "Episode 3 total reward: -200.0\n"
     ]
    }
   ],
   "source": [
    "import gymnasium as gym\n",
    "import time\n",
    "\n",
    "# 환경 생성 (렌더링 포함)\n",
    "env = gym.make(\"MountainCar-v0\", render_mode=\"human\")\n",
    "\n",
    "num_episodes = 3\n",
    "\n",
    "for episode in range(num_episodes):\n",
    "    state, _ = env.reset()\n",
    "    done = False\n",
    "    total_reward = 0\n",
    "\n",
    "    while not done:\n",
    "        env.render()\n",
    "        action = env.action_space.sample()  # 0: 왼쪽, 1: 아무것도 안함, 2: 오른쪽\n",
    "        state, reward, terminated, truncated, info = env.step(action)\n",
    "        done = terminated or truncated\n",
    "        total_reward += reward\n",
    "        time.sleep(0.02)\n",
    "\n",
    "    print(f\"Episode {episode + 1} total reward: {total_reward}\")\n",
    "\n",
    "env.close()\n"
   ]
  }
 ],
 "metadata": {
  "kernelspec": {
   "display_name": "ml",
   "language": "python",
   "name": "python3"
  },
  "language_info": {
   "codemirror_mode": {
    "name": "ipython",
    "version": 3
   },
   "file_extension": ".py",
   "mimetype": "text/x-python",
   "name": "python",
   "nbconvert_exporter": "python",
   "pygments_lexer": "ipython3",
   "version": "3.12.9"
  }
 },
 "nbformat": 4,
 "nbformat_minor": 5
}
