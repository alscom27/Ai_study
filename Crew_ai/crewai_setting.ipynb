{
 "cells": [
  {
   "cell_type": "markdown",
   "id": "54dd9722",
   "metadata": {},
   "source": [
    "power shell\n",
    "-> powershell -ExecutionPolicy ByPass -c \"irm https://astral.sh/uv/install.ps1 | iex\"\n",
    "\n",
    "(이거 안깔리면 c++ build tools 설치해야함)\n",
    "pip install -U python-dotenv crewai[tools] openai langchain-community\n",
    "\n",
    "uv tool install crewai\n",
    "\n",
    "uv tool list\n"
   ]
  },
  {
   "cell_type": "markdown",
   "id": "d050c1df",
   "metadata": {},
   "source": [
    "crewai project 생성해보기\n",
    "\n",
    "crewai create crew <your_project_name>"
   ]
  }
 ],
 "metadata": {
  "kernelspec": {
   "display_name": "crewai",
   "language": "python",
   "name": "python3"
  },
  "language_info": {
   "name": "python",
   "version": "3.12.9"
  }
 },
 "nbformat": 4,
 "nbformat_minor": 5
}
